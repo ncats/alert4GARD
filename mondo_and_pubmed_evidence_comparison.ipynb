{
 "metadata": {
  "language_info": {
   "codemirror_mode": {
    "name": "ipython",
    "version": 3
   },
   "file_extension": ".py",
   "mimetype": "text/x-python",
   "name": "python",
   "nbconvert_exporter": "python",
   "pygments_lexer": "ipython3",
   "version": "3.8.2-final"
  },
  "orig_nbformat": 2,
  "kernelspec": {
   "name": "python_defaultSpec_1600100484910",
   "display_name": "Python 3.8.2 32-bit"
  }
 },
 "nbformat": 4,
 "nbformat_minor": 2,
 "cells": [
  {
   "source": [
    "Compare the mondo articles and evidence against Pubmed terms api"
   ],
   "cell_type": "markdown",
   "metadata": {}
  },
  {
   "cell_type": "code",
   "execution_count": 5,
   "metadata": {
    "tags": []
   },
   "outputs": [
    {
     "output_type": "stream",
     "name": "stdout",
     "text": "hello world\n"
    }
   ],
   "source": [
    "print(\"hello world\")"
   ]
  },
  {
   "cell_type": "code",
   "execution_count": 4,
   "metadata": {},
   "outputs": [],
   "source": [
    "import json\n",
    "import urllib\n",
    "from urllib import request\n",
    "from urllib import parse\n",
    "import neo4j\n",
    "from neo4j import GraphDatabase, ServiceUnavailable, basic_auth\n",
    "import datetime\n",
    "from datetime import date\n",
    "import time\n",
    "import logging, logging.config\n",
    "import itertools\n"
   ]
  },
  {
   "cell_type": "code",
   "execution_count": 7,
   "metadata": {},
   "outputs": [],
   "source": [
    "def get_Mondo_and_GARD_diseases_list():\n",
    "    \"\"\"Returns list of the Mondo and GARD Diseases\"\"\"\n",
    "    \n",
    "    with GraphDatabase.driver(\"bolt://disease.ncats.io:80\") as driver:\n",
    "        try:\n",
    "            with driver.session() as session:\n",
    "                cypher_query = '''\n",
    "                match p = (d:DATA)-[:PAYLOAD]->(m:S_MONDO)<-[r:R_equivalentClass]-(n:S_GARD)<-[:PAYLOAD]-(d1:DATA) \n",
    "                RETURN d.notation as MONDO_ID, d1.gard_id as GARD_ID\n",
    "                '''\n",
    "                results = session.run(cypher_query, parameters={})\n",
    "                myData = {}\n",
    "                for record in results:\n",
    "                    myData[record['MONDO_ID']] = record['GARD_ID']\n",
    "                    \n",
    "            return myData\n",
    "        except ServiceUnavailable as e:\n",
    "                print(e)\n",
    "\n",
    "mondo_and_gard_diseases = get_Mondo_and_GARD_diseases_list()"
   ]
  },
  {
   "cell_type": "code",
   "execution_count": 1,
   "metadata": {},
   "outputs": [],
   "source": [
    "\n",
    "\n",
    "def find_mondo_articles(MondoID):\n",
    "    \"\"\"fetch mondo articles and return a map\"\"\"\n",
    "    # https://api.monarchinitiative.org/api/bioentity/disease/MONDO:0007846/publications\n",
    "\n",
    "    data = request.urlopen(\"https://api.monarchinitiative.org/api/bioentity/disease/\" + MondoID + \"/publications\").read().decode()\n",
    "\n",
    "    return json.loads(data)\n",
    "\n",
    "\n"
   ]
  },
  {
   "cell_type": "code",
   "execution_count": null,
   "metadata": {},
   "outputs": [],
   "source": []
  }
 ]
}