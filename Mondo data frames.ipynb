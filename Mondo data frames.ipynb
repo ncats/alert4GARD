{
 "metadata": {
  "language_info": {
   "codemirror_mode": {
    "name": "ipython",
    "version": 3
   },
   "file_extension": ".py",
   "mimetype": "text/x-python",
   "name": "python",
   "nbconvert_exporter": "python",
   "pygments_lexer": "ipython3",
   "version": 3
  },
  "orig_nbformat": 2
 },
 "nbformat": 4,
 "nbformat_minor": 2,
 "cells": [
  {
   "source": [
    "### Code to build a dataframe of mondo publications per mondo disease"
   ],
   "cell_type": "markdown",
   "metadata": {}
  },
  {
   "cell_type": "code",
   "execution_count": null,
   "metadata": {},
   "outputs": [],
   "source": [
    "mondoIds = list(islice(mondo_and_gard_diseases.items(),1000))\n",
    "df_mondoev = pandas.DataFrame(columns=['mondoid','disease','Mondo Object Type','Mondo Object pmid','Mondo Object label'])\n",
    "\n",
    "for x in mondoIds:\n",
    "    print (x[0])\n",
    "    mondo_results = find_mondo_articles(x[0])\n",
    "    time.sleep(0.3)\n",
    "    if ('associations' in mondo_results and len(mondo_results['associations']) > 0):\n",
    "        for association in mondo_results['associations']:\n",
    "                if('object' in association and 'id' in association['object']):\n",
    "                        m_pubmedid = association['object']['id']\n",
    "                        print(m_pubmedid)\n",
    "                        df_mondoev = df_mondoev.append(\n",
    "                        {'mondoid':x[0],\n",
    "                            'disease':'N/A', # search in mondo_and_gard_disease list x[1],\n",
    "                            'Mondo Object Type':str.split(m_pubmedid,\":\")[0],\n",
    "                            'Mondo Object pmid':str.split(m_pubmedid,\":\")[1],\n",
    "                            'Mondo Object label':association['object']['label']\n",
    "                            },\n",
    "                            ignore_index=True)\n",
    "        df_mondoev.to_csv(\"mondo_evidence_by_disease.csv\")\n"
   ]
  },
  {
   "source": [
    "### Code to build a dataframe of pubmed publications per gard disease"
   ],
   "cell_type": "markdown",
   "metadata": {}
  },
  {
   "cell_type": "code",
   "execution_count": null,
   "metadata": {},
   "outputs": [],
   "source": [
    "gdiseases = list(islice(gard_diseases.items(),1))\n",
    "df_pubmedev = pandas.DataFrame(columns=['gardid','disease','PubMed Evidence pmid'])\n",
    "for idx, gard_id in enumerate(gdiseases): \n",
    "    print(idx, gard_id[1])\n",
    "    if (gard_id[1] is not None):\n",
    "        time.sleep(0.3)\n",
    "        pubmed_result = find_articles(gard_id[1] ,\"1900/01/01\",\"2020/01/01\")\n",
    "        if ('esearchresult' in pubmed_result and 'count' in pubmed_result['esearchresult'] \n",
    "            and int(pubmed_result['esearchresult']['count'])>0):\n",
    "            #print (pubmed_result['esearchresult']['idlist'])\n",
    "            for pmid in pubmed_result['esearchresult']['idlist']: \n",
    "                df_pubmedev = df_pubmedev.append(\n",
    "                        {'gardid':gard_id[0],\n",
    "                    'disease':gard_id[1], \n",
    "                    'PubMed Evidence pmid':pmid},\n",
    "                    ignore_index=True)\n",
    "        else:\n",
    "            #print('Adding empty row to df')\n",
    "            df_pubmedev = df_pubmedev.append({'gardid':gard_id[0],\n",
    "                'disease':gard_id[1], \n",
    "                'PubMed Evidence pmid':'N/A'},\n",
    "                ignore_index=True)\n",
    "    df_pubmedev.to_csv(\"pubmed_evidence_by_disease.csv\")"
   ]
  },
  {
   "cell_type": "code",
   "execution_count": null,
   "metadata": {},
   "outputs": [],
   "source": []
  }
 ]
}