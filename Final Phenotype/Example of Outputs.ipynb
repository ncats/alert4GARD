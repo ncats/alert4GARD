{
 "cells": [
  {
   "source": [
    "# Load functions"
   ],
   "cell_type": "markdown",
   "metadata": {}
  },
  {
   "cell_type": "code",
   "execution_count": 1,
   "metadata": {},
   "outputs": [],
   "source": [
    "%run \"C:/Users/asclo/Desktop/HHS/NIH Dashboard/Python Notebooks/Final Deliverables/FunctionsForAnalysis.py\""
   ]
  },
  {
   "source": [
    "### Load Data"
   ],
   "cell_type": "markdown",
   "metadata": {}
  },
  {
   "cell_type": "code",
   "execution_count": 2,
   "metadata": {},
   "outputs": [],
   "source": [
    "abstract = pd.read_csv('C:/Users/asclo/Desktop/HHS/NIH Dashboard/Python Notebooks/Final Deliverables/All pmid abstracts from hpo annotations.csv',sep=',', index_col = False)\n",
    "abstract = abstract.rename(columns = {'Pubmed_ID': 'text_id', 'Abstract': 'text'})\n",
    "abstract['text_id'] = abstract['text_id'].astype(str)\n",
    "abstract = abstract.iloc[0:2, :]\n"
   ]
  },
  {
   "source": [
    "# Functions for HPO Annotation File\n",
    "\n",
    "## HPO Annotations File\n",
    "\n",
    "**Input:** **Website**\n",
    "\n",
    "**Output:** Dataset from HPO with annotations for each disease\n"
   ],
   "cell_type": "markdown",
   "metadata": {}
  },
  {
   "cell_type": "code",
   "execution_count": 3,
   "metadata": {},
   "outputs": [
    {
     "output_type": "execute_result",
     "data": {
      "text/plain": [
       "       #disease-db  disease-identifier              disease-name  negation  \\\n",
       "0         DECIPHER                   1  Wolf-Hirschhorn Syndrome       NaN   \n",
       "1         DECIPHER                   1  Wolf-Hirschhorn Syndrome       NaN   \n",
       "2         DECIPHER                   1  Wolf-Hirschhorn Syndrome       NaN   \n",
       "3         DECIPHER                   1  Wolf-Hirschhorn Syndrome       NaN   \n",
       "4         DECIPHER                   1  Wolf-Hirschhorn Syndrome       NaN   \n",
       "...            ...                 ...                       ...       ...   \n",
       "203678       ORPHA               99978            Klatskin tumor       NaN   \n",
       "203679       ORPHA               99978            Klatskin tumor       NaN   \n",
       "203680       ORPHA               99978            Klatskin tumor       NaN   \n",
       "203681       ORPHA               99978            Klatskin tumor       NaN   \n",
       "203682       ORPHA               99978            Klatskin tumor       NaN   \n",
       "\n",
       "               hpo    reference evidence-code onset frequencyHPO modifier  \\\n",
       "0       HP:0000252   DECIPHER:1           IEA   NaN          NaN            \n",
       "1       HP:0001249   DECIPHER:1           IEA   NaN          NaN            \n",
       "2       HP:0001250   DECIPHER:1           IEA   NaN          NaN            \n",
       "3       HP:0001252   DECIPHER:1           IEA   NaN          NaN            \n",
       "4       HP:0001518   DECIPHER:1           IEA   NaN          NaN            \n",
       "...            ...          ...           ...   ...          ...      ...   \n",
       "203678  HP:0002716  ORPHA:99978           TAS   NaN   HP:0040282      NaN   \n",
       "203679  HP:0004936  ORPHA:99978           TAS   NaN   HP:0040283      NaN   \n",
       "203680  HP:0012334  ORPHA:99978           TAS   NaN   HP:0040281      NaN   \n",
       "203681  HP:0012378  ORPHA:99978           TAS   NaN   HP:0040283      NaN   \n",
       "203682  HP:0030153  ORPHA:99978           TAS   NaN   HP:0040281      NaN   \n",
       "\n",
       "       sub-ontology                 alt-names                  curators  \\\n",
       "0                 P  WOLF-HIRSCHHORN SYNDROME  HPO:skoehler[2013-05-29]   \n",
       "1                 P  WOLF-HIRSCHHORN SYNDROME  HPO:skoehler[2013-05-29]   \n",
       "2                 P  WOLF-HIRSCHHORN SYNDROME  HPO:skoehler[2013-05-29]   \n",
       "3                 P  WOLF-HIRSCHHORN SYNDROME  HPO:skoehler[2013-05-29]   \n",
       "4                 P  WOLF-HIRSCHHORN SYNDROME  HPO:skoehler[2013-05-29]   \n",
       "...             ...                       ...                       ...   \n",
       "203678            P                       NaN                 orphadata   \n",
       "203679            P                       NaN                 orphadata   \n",
       "203680            P                       NaN                 orphadata   \n",
       "203681            P                       NaN                 orphadata   \n",
       "203682            P                       NaN                 orphadata   \n",
       "\n",
       "       frequencyRaw sex               uniqueid  \n",
       "0                 -   -   HP:0000252DECIPHER:1  \n",
       "1                 -   -   HP:0001249DECIPHER:1  \n",
       "2                 -   -   HP:0001250DECIPHER:1  \n",
       "3                 -   -   HP:0001252DECIPHER:1  \n",
       "4                 -   -   HP:0001518DECIPHER:1  \n",
       "...             ...  ..                    ...  \n",
       "203678            -   -  HP:0002716ORPHA:99978  \n",
       "203679            -   -  HP:0004936ORPHA:99978  \n",
       "203680            -   -  HP:0012334ORPHA:99978  \n",
       "203681            -   -  HP:0012378ORPHA:99978  \n",
       "203682            -   -  HP:0030153ORPHA:99978  \n",
       "\n",
       "[203683 rows x 16 columns]"
      ],
      "text/html": "<div>\n<style scoped>\n    .dataframe tbody tr th:only-of-type {\n        vertical-align: middle;\n    }\n\n    .dataframe tbody tr th {\n        vertical-align: top;\n    }\n\n    .dataframe thead th {\n        text-align: right;\n    }\n</style>\n<table border=\"1\" class=\"dataframe\">\n  <thead>\n    <tr style=\"text-align: right;\">\n      <th></th>\n      <th>#disease-db</th>\n      <th>disease-identifier</th>\n      <th>disease-name</th>\n      <th>negation</th>\n      <th>hpo</th>\n      <th>reference</th>\n      <th>evidence-code</th>\n      <th>onset</th>\n      <th>frequencyHPO</th>\n      <th>modifier</th>\n      <th>sub-ontology</th>\n      <th>alt-names</th>\n      <th>curators</th>\n      <th>frequencyRaw</th>\n      <th>sex</th>\n      <th>uniqueid</th>\n    </tr>\n  </thead>\n  <tbody>\n    <tr>\n      <td>0</td>\n      <td>DECIPHER</td>\n      <td>1</td>\n      <td>Wolf-Hirschhorn Syndrome</td>\n      <td>NaN</td>\n      <td>HP:0000252</td>\n      <td>DECIPHER:1</td>\n      <td>IEA</td>\n      <td>NaN</td>\n      <td>NaN</td>\n      <td></td>\n      <td>P</td>\n      <td>WOLF-HIRSCHHORN SYNDROME</td>\n      <td>HPO:skoehler[2013-05-29]</td>\n      <td>-</td>\n      <td>-</td>\n      <td>HP:0000252DECIPHER:1</td>\n    </tr>\n    <tr>\n      <td>1</td>\n      <td>DECIPHER</td>\n      <td>1</td>\n      <td>Wolf-Hirschhorn Syndrome</td>\n      <td>NaN</td>\n      <td>HP:0001249</td>\n      <td>DECIPHER:1</td>\n      <td>IEA</td>\n      <td>NaN</td>\n      <td>NaN</td>\n      <td></td>\n      <td>P</td>\n      <td>WOLF-HIRSCHHORN SYNDROME</td>\n      <td>HPO:skoehler[2013-05-29]</td>\n      <td>-</td>\n      <td>-</td>\n      <td>HP:0001249DECIPHER:1</td>\n    </tr>\n    <tr>\n      <td>2</td>\n      <td>DECIPHER</td>\n      <td>1</td>\n      <td>Wolf-Hirschhorn Syndrome</td>\n      <td>NaN</td>\n      <td>HP:0001250</td>\n      <td>DECIPHER:1</td>\n      <td>IEA</td>\n      <td>NaN</td>\n      <td>NaN</td>\n      <td></td>\n      <td>P</td>\n      <td>WOLF-HIRSCHHORN SYNDROME</td>\n      <td>HPO:skoehler[2013-05-29]</td>\n      <td>-</td>\n      <td>-</td>\n      <td>HP:0001250DECIPHER:1</td>\n    </tr>\n    <tr>\n      <td>3</td>\n      <td>DECIPHER</td>\n      <td>1</td>\n      <td>Wolf-Hirschhorn Syndrome</td>\n      <td>NaN</td>\n      <td>HP:0001252</td>\n      <td>DECIPHER:1</td>\n      <td>IEA</td>\n      <td>NaN</td>\n      <td>NaN</td>\n      <td></td>\n      <td>P</td>\n      <td>WOLF-HIRSCHHORN SYNDROME</td>\n      <td>HPO:skoehler[2013-05-29]</td>\n      <td>-</td>\n      <td>-</td>\n      <td>HP:0001252DECIPHER:1</td>\n    </tr>\n    <tr>\n      <td>4</td>\n      <td>DECIPHER</td>\n      <td>1</td>\n      <td>Wolf-Hirschhorn Syndrome</td>\n      <td>NaN</td>\n      <td>HP:0001518</td>\n      <td>DECIPHER:1</td>\n      <td>IEA</td>\n      <td>NaN</td>\n      <td>NaN</td>\n      <td></td>\n      <td>P</td>\n      <td>WOLF-HIRSCHHORN SYNDROME</td>\n      <td>HPO:skoehler[2013-05-29]</td>\n      <td>-</td>\n      <td>-</td>\n      <td>HP:0001518DECIPHER:1</td>\n    </tr>\n    <tr>\n      <td>...</td>\n      <td>...</td>\n      <td>...</td>\n      <td>...</td>\n      <td>...</td>\n      <td>...</td>\n      <td>...</td>\n      <td>...</td>\n      <td>...</td>\n      <td>...</td>\n      <td>...</td>\n      <td>...</td>\n      <td>...</td>\n      <td>...</td>\n      <td>...</td>\n      <td>...</td>\n      <td>...</td>\n    </tr>\n    <tr>\n      <td>203678</td>\n      <td>ORPHA</td>\n      <td>99978</td>\n      <td>Klatskin tumor</td>\n      <td>NaN</td>\n      <td>HP:0002716</td>\n      <td>ORPHA:99978</td>\n      <td>TAS</td>\n      <td>NaN</td>\n      <td>HP:0040282</td>\n      <td>NaN</td>\n      <td>P</td>\n      <td>NaN</td>\n      <td>orphadata</td>\n      <td>-</td>\n      <td>-</td>\n      <td>HP:0002716ORPHA:99978</td>\n    </tr>\n    <tr>\n      <td>203679</td>\n      <td>ORPHA</td>\n      <td>99978</td>\n      <td>Klatskin tumor</td>\n      <td>NaN</td>\n      <td>HP:0004936</td>\n      <td>ORPHA:99978</td>\n      <td>TAS</td>\n      <td>NaN</td>\n      <td>HP:0040283</td>\n      <td>NaN</td>\n      <td>P</td>\n      <td>NaN</td>\n      <td>orphadata</td>\n      <td>-</td>\n      <td>-</td>\n      <td>HP:0004936ORPHA:99978</td>\n    </tr>\n    <tr>\n      <td>203680</td>\n      <td>ORPHA</td>\n      <td>99978</td>\n      <td>Klatskin tumor</td>\n      <td>NaN</td>\n      <td>HP:0012334</td>\n      <td>ORPHA:99978</td>\n      <td>TAS</td>\n      <td>NaN</td>\n      <td>HP:0040281</td>\n      <td>NaN</td>\n      <td>P</td>\n      <td>NaN</td>\n      <td>orphadata</td>\n      <td>-</td>\n      <td>-</td>\n      <td>HP:0012334ORPHA:99978</td>\n    </tr>\n    <tr>\n      <td>203681</td>\n      <td>ORPHA</td>\n      <td>99978</td>\n      <td>Klatskin tumor</td>\n      <td>NaN</td>\n      <td>HP:0012378</td>\n      <td>ORPHA:99978</td>\n      <td>TAS</td>\n      <td>NaN</td>\n      <td>HP:0040283</td>\n      <td>NaN</td>\n      <td>P</td>\n      <td>NaN</td>\n      <td>orphadata</td>\n      <td>-</td>\n      <td>-</td>\n      <td>HP:0012378ORPHA:99978</td>\n    </tr>\n    <tr>\n      <td>203682</td>\n      <td>ORPHA</td>\n      <td>99978</td>\n      <td>Klatskin tumor</td>\n      <td>NaN</td>\n      <td>HP:0030153</td>\n      <td>ORPHA:99978</td>\n      <td>TAS</td>\n      <td>NaN</td>\n      <td>HP:0040281</td>\n      <td>NaN</td>\n      <td>P</td>\n      <td>NaN</td>\n      <td>orphadata</td>\n      <td>-</td>\n      <td>-</td>\n      <td>HP:0030153ORPHA:99978</td>\n    </tr>\n  </tbody>\n</table>\n<p>203683 rows × 16 columns</p>\n</div>"
     },
     "metadata": {},
     "execution_count": 3
    }
   ],
   "source": [
    "hpo_annotations = get_hpo_annotations_and_clean()\n",
    "hpo_annotations"
   ]
  },
  {
   "source": [
    "## HPO Annotations Pubmed and Disease Pairings\n",
    "\n",
    "**Input:** The HPO Annotations File\n",
    "\n",
    "**Output:** Dataset with disease names, text_ids for disease/pubmedID paring\n"
   ],
   "cell_type": "markdown",
   "metadata": {}
  },
  {
   "cell_type": "code",
   "execution_count": 4,
   "metadata": {},
   "outputs": [
    {
     "output_type": "execute_result",
     "data": {
      "text/plain": [
       "                                             disease-name   text_id\n",
       "114                              Xq28 (MECP2) duplication  17088400\n",
       "244                             15q26 overgrowth syndrome  19133692\n",
       "246                             15q26 overgrowth syndrome  20603595\n",
       "250                             15q26 overgrowth syndrome  10951463\n",
       "251                             15q26 overgrowth syndrome  12404101\n",
       "...                                                   ...       ...\n",
       "110002  Mitochondrial complex IV deficiency, nuclear t...  31290619\n",
       "110025                Vitamin D-dependent rickets, type 3  29461981\n",
       "110040  Cleft palate, proliferative retinopathy, and d...  30976112\n",
       "110061  Neurodevelopmental disorder with alopecia and ...  30475435\n",
       "110063  Neurodevelopmental disorder with alopecia and ...  30239107\n",
       "\n",
       "[2277 rows x 2 columns]"
      ],
      "text/html": "<div>\n<style scoped>\n    .dataframe tbody tr th:only-of-type {\n        vertical-align: middle;\n    }\n\n    .dataframe tbody tr th {\n        vertical-align: top;\n    }\n\n    .dataframe thead th {\n        text-align: right;\n    }\n</style>\n<table border=\"1\" class=\"dataframe\">\n  <thead>\n    <tr style=\"text-align: right;\">\n      <th></th>\n      <th>disease-name</th>\n      <th>text_id</th>\n    </tr>\n  </thead>\n  <tbody>\n    <tr>\n      <td>114</td>\n      <td>Xq28 (MECP2) duplication</td>\n      <td>17088400</td>\n    </tr>\n    <tr>\n      <td>244</td>\n      <td>15q26 overgrowth syndrome</td>\n      <td>19133692</td>\n    </tr>\n    <tr>\n      <td>246</td>\n      <td>15q26 overgrowth syndrome</td>\n      <td>20603595</td>\n    </tr>\n    <tr>\n      <td>250</td>\n      <td>15q26 overgrowth syndrome</td>\n      <td>10951463</td>\n    </tr>\n    <tr>\n      <td>251</td>\n      <td>15q26 overgrowth syndrome</td>\n      <td>12404101</td>\n    </tr>\n    <tr>\n      <td>...</td>\n      <td>...</td>\n      <td>...</td>\n    </tr>\n    <tr>\n      <td>110002</td>\n      <td>Mitochondrial complex IV deficiency, nuclear t...</td>\n      <td>31290619</td>\n    </tr>\n    <tr>\n      <td>110025</td>\n      <td>Vitamin D-dependent rickets, type 3</td>\n      <td>29461981</td>\n    </tr>\n    <tr>\n      <td>110040</td>\n      <td>Cleft palate, proliferative retinopathy, and d...</td>\n      <td>30976112</td>\n    </tr>\n    <tr>\n      <td>110061</td>\n      <td>Neurodevelopmental disorder with alopecia and ...</td>\n      <td>30475435</td>\n    </tr>\n    <tr>\n      <td>110063</td>\n      <td>Neurodevelopmental disorder with alopecia and ...</td>\n      <td>30239107</td>\n    </tr>\n  </tbody>\n</table>\n<p>2277 rows × 2 columns</p>\n</div>"
     },
     "metadata": {},
     "execution_count": 4
    }
   ],
   "source": [
    "hpo_annotations_pmid_and_disease(hpo_annotations)"
   ]
  },
  {
   "source": [
    "# Functions for HPO Graph (OBO) File\n",
    "\n",
    "## Loading Graph into Python\n",
    "\n",
    "**Input:** https://raw.githubusercontent.com/obophenotype/human-phenotype-ontology/master/hp.obo\n",
    "\n",
    "**Output:** HPO IDs and their hierarchy"
   ],
   "cell_type": "markdown",
   "metadata": {}
  },
  {
   "cell_type": "code",
   "execution_count": 5,
   "metadata": {},
   "outputs": [
    {
     "output_type": "stream",
     "name": "stdout",
     "text": [
      "Help on function hpo_hierarchy_graph_load in module __main__:\n\nhpo_hierarchy_graph_load()\n    Loads all data from the graph/obo file located here:\n    \n    https://raw.githubusercontent.com/obophenotype/human-phenotype-ontology/master/hp.obo\n    \n    Input: None\n    \n    Output: HPO IDs and their hierarchy\n\n"
     ]
    }
   ],
   "source": [
    "help(hpo_hierarchy_graph_load)"
   ]
  },
  {
   "cell_type": "code",
   "execution_count": 6,
   "metadata": {},
   "outputs": [
    {
     "output_type": "execute_result",
     "data": {
      "text/plain": [
       "<networkx.classes.multidigraph.MultiDiGraph at 0x25c293964c8>"
      ]
     },
     "metadata": {},
     "execution_count": 6
    }
   ],
   "source": [
    "g = hpo_hierarchy_graph_load()\n",
    "g"
   ]
  },
  {
   "source": [
    "## List of Phenotypic Abnormalities\n",
    "\n",
    "**Input:** HPO graph network\n",
    "\n",
    "**Output:** List of hpo codes that are under phenotypic abnormality"
   ],
   "cell_type": "markdown",
   "metadata": {}
  },
  {
   "cell_type": "code",
   "execution_count": 7,
   "metadata": {},
   "outputs": [
    {
     "output_type": "stream",
     "name": "stdout",
     "text": [
      "Help on function graph_phenotypic_abnormality in module __main__:\n\ngraph_phenotypic_abnormality(graph_network)\n    This creates a list of HP codes that are children of the phenotypic abnormality.\n    It checks if each HPO code in the graph is a child of HP:0000118, which is phenotypic abnormality.\n    \n    Input: HPO graph_network\n    Output: List of hpo codes that are under phenotypic abnormality\n\n"
     ]
    }
   ],
   "source": [
    "help(graph_phenotypic_abnormality)"
   ]
  },
  {
   "cell_type": "code",
   "execution_count": 8,
   "metadata": {},
   "outputs": [
    {
     "output_type": "execute_result",
     "data": {
      "text/plain": [
       "['HP:0000003',\n",
       " 'HP:0000008',\n",
       " 'HP:0000009',\n",
       " 'HP:0000010',\n",
       " 'HP:0000011',\n",
       " 'HP:0000012',\n",
       " 'HP:0000013',\n",
       " 'HP:0000014',\n",
       " 'HP:0000015']"
      ]
     },
     "metadata": {},
     "execution_count": 8
    }
   ],
   "source": [
    "phenotypic_abnormality_list = graph_phenotypic_abnormality(g)\n",
    "phenotypic_abnormality_list[1:10]"
   ]
  },
  {
   "source": [
    "## Get All external references for all HPO codes\n",
    "\n",
    "**Input:** HPO graph network\n",
    "\n",
    "**Output:** DataFrame with hpo codes and associated external references\n"
   ],
   "cell_type": "markdown",
   "metadata": {}
  },
  {
   "cell_type": "code",
   "execution_count": 9,
   "metadata": {},
   "outputs": [
    {
     "output_type": "stream",
     "name": "stdout",
     "text": [
      "Help on function get_all_external_references_for_hpo_codes in module __main__:\n\nget_all_external_references_for_hpo_codes(graph_network)\n    This function pulls all of the other codes associated with each hpo code\n    \n    Input: HPO graph network\n    Output: DataFrame with hpo codes and associated external references\n\n"
     ]
    }
   ],
   "source": [
    "help(get_all_external_references_for_hpo_codes)"
   ]
  },
  {
   "cell_type": "code",
   "execution_count": 10,
   "metadata": {},
   "outputs": [
    {
     "output_type": "execute_result",
     "data": {
      "text/plain": [
       "                   hpo                  x_ref\n",
       "HP:0000001  HP:0000001          UMLS:C0444868\n",
       "HP:0000002  HP:0000002          UMLS:C4025901\n",
       "HP:0000003  HP:0000003            MSH:D021782\n",
       "HP:0000005  HP:0000005          UMLS:C1708511\n",
       "HP:0000006  HP:0000006  SNOMEDCT_US:263681008"
      ],
      "text/html": "<div>\n<style scoped>\n    .dataframe tbody tr th:only-of-type {\n        vertical-align: middle;\n    }\n\n    .dataframe tbody tr th {\n        vertical-align: top;\n    }\n\n    .dataframe thead th {\n        text-align: right;\n    }\n</style>\n<table border=\"1\" class=\"dataframe\">\n  <thead>\n    <tr style=\"text-align: right;\">\n      <th></th>\n      <th>hpo</th>\n      <th>x_ref</th>\n    </tr>\n  </thead>\n  <tbody>\n    <tr>\n      <td>HP:0000001</td>\n      <td>HP:0000001</td>\n      <td>UMLS:C0444868</td>\n    </tr>\n    <tr>\n      <td>HP:0000002</td>\n      <td>HP:0000002</td>\n      <td>UMLS:C4025901</td>\n    </tr>\n    <tr>\n      <td>HP:0000003</td>\n      <td>HP:0000003</td>\n      <td>MSH:D021782</td>\n    </tr>\n    <tr>\n      <td>HP:0000005</td>\n      <td>HP:0000005</td>\n      <td>UMLS:C1708511</td>\n    </tr>\n    <tr>\n      <td>HP:0000006</td>\n      <td>HP:0000006</td>\n      <td>SNOMEDCT_US:263681008</td>\n    </tr>\n  </tbody>\n</table>\n</div>"
     },
     "metadata": {},
     "execution_count": 10
    }
   ],
   "source": [
    "get_all_external_references_for_hpo_codes(g).head(5)"
   ]
  },
  {
   "source": [
    "## Get UMLS codes for Metamap\n",
    "\n",
    "**Input:** HPO graph network\n",
    "\n",
    "**Output:** DataFrame with hpo codes and associated external references"
   ],
   "cell_type": "markdown",
   "metadata": {}
  },
  {
   "cell_type": "code",
   "execution_count": 11,
   "metadata": {},
   "outputs": [
    {
     "output_type": "stream",
     "name": "stdout",
     "text": [
      "Help on function get_hpos_for_umls_code in module __main__:\n\nget_hpos_for_umls_code(graph_network)\n    Metamap is coded under UMLS concept codes.  We need to convert these into HPO code.\n    There are external references for HPOs codes in the graph network of HPO phenotypes.\n    \n    This function gets all of the umls codes for hpos that are phenotypic abnormalities.\n    \n    Child Function: get_all_external_references_for_hpo_codes\n\n"
     ]
    }
   ],
   "source": [
    "help(get_hpos_for_umls_code)"
   ]
  },
  {
   "cell_type": "code",
   "execution_count": 12,
   "metadata": {},
   "outputs": [
    {
     "output_type": "execute_result",
     "data": {
      "text/plain": [
       "                   hpo conceptId\n",
       "HP:0000001  HP:0000001  C0444868\n",
       "HP:0000002  HP:0000002  C4025901\n",
       "HP:0000005  HP:0000005  C1708511\n",
       "HP:0000008  HP:0000008  C4025900\n",
       "HP:0000009  HP:0000009  C3806583"
      ],
      "text/html": "<div>\n<style scoped>\n    .dataframe tbody tr th:only-of-type {\n        vertical-align: middle;\n    }\n\n    .dataframe tbody tr th {\n        vertical-align: top;\n    }\n\n    .dataframe thead th {\n        text-align: right;\n    }\n</style>\n<table border=\"1\" class=\"dataframe\">\n  <thead>\n    <tr style=\"text-align: right;\">\n      <th></th>\n      <th>hpo</th>\n      <th>conceptId</th>\n    </tr>\n  </thead>\n  <tbody>\n    <tr>\n      <td>HP:0000001</td>\n      <td>HP:0000001</td>\n      <td>C0444868</td>\n    </tr>\n    <tr>\n      <td>HP:0000002</td>\n      <td>HP:0000002</td>\n      <td>C4025901</td>\n    </tr>\n    <tr>\n      <td>HP:0000005</td>\n      <td>HP:0000005</td>\n      <td>C1708511</td>\n    </tr>\n    <tr>\n      <td>HP:0000008</td>\n      <td>HP:0000008</td>\n      <td>C4025900</td>\n    </tr>\n    <tr>\n      <td>HP:0000009</td>\n      <td>HP:0000009</td>\n      <td>C3806583</td>\n    </tr>\n  </tbody>\n</table>\n</div>"
     },
     "metadata": {},
     "execution_count": 12
    }
   ],
   "source": [
    "df = get_hpos_for_umls_code(g)\n",
    "df.head(5)"
   ]
  },
  {
   "source": [
    "## Get Alternate IDs\n",
    "**Input:** One HPO Code; HPO graph network\n",
    "\n",
    "**Output:** DataFrame with hpo codes and associated external references\n"
   ],
   "cell_type": "markdown",
   "metadata": {}
  },
  {
   "cell_type": "code",
   "execution_count": 13,
   "metadata": {},
   "outputs": [
    {
     "output_type": "stream",
     "name": "stdout",
     "text": [
      "Help on function get_alt_ids in module __main__:\n\nget_alt_ids(hpo_code, graph_network)\n    # %%\n\n"
     ]
    }
   ],
   "source": [
    "help(get_alt_ids)"
   ]
  },
  {
   "cell_type": "code",
   "execution_count": 14,
   "metadata": {},
   "outputs": [
    {
     "output_type": "execute_result",
     "data": {
      "text/plain": [
       "      alt_hpo         hpo\n",
       "0  HP:0003838  HP:0002817"
      ],
      "text/html": "<div>\n<style scoped>\n    .dataframe tbody tr th:only-of-type {\n        vertical-align: middle;\n    }\n\n    .dataframe tbody tr th {\n        vertical-align: top;\n    }\n\n    .dataframe thead th {\n        text-align: right;\n    }\n</style>\n<table border=\"1\" class=\"dataframe\">\n  <thead>\n    <tr style=\"text-align: right;\">\n      <th></th>\n      <th>alt_hpo</th>\n      <th>hpo</th>\n    </tr>\n  </thead>\n  <tbody>\n    <tr>\n      <td>0</td>\n      <td>HP:0003838</td>\n      <td>HP:0002817</td>\n    </tr>\n  </tbody>\n</table>\n</div>"
     },
     "metadata": {},
     "execution_count": 14
    }
   ],
   "source": [
    "get_alt_ids('HP:0002817', g)"
   ]
  },
  {
   "source": [
    "##  Get Alternate IDs for full HPO list\n",
    "\n",
    "**Input:** List of HPO Codes; HPO graph network\n",
    "\n",
    "**Output:** DataFrame with hpo codes and associated external references"
   ],
   "cell_type": "markdown",
   "metadata": {}
  },
  {
   "cell_type": "code",
   "execution_count": 15,
   "metadata": {},
   "outputs": [
    {
     "output_type": "stream",
     "name": "stdout",
     "text": [
      "Help on function graph_alternate_direct_ids in module __main__:\n\ngraph_alternate_direct_ids(List_of_HPOs, graph_network)\n    This gets all alternate HPO codes for each given HPO.  \n    There can be many HPO codes being used for the same phenotype issues.\n    \n    Child function:\n        - get_alt_ids - this supplies the alternate HPO codes for one given HPO code\n\n"
     ]
    }
   ],
   "source": [
    "help(graph_alternate_direct_ids)"
   ]
  },
  {
   "cell_type": "code",
   "execution_count": 16,
   "metadata": {},
   "outputs": [
    {
     "output_type": "execute_result",
     "data": {
      "text/plain": [
       "      alt_hpo         hpo\n",
       "0  HP:0003838  HP:0002817\n",
       "0  HP:0005858  HP:0001155"
      ],
      "text/html": "<div>\n<style scoped>\n    .dataframe tbody tr th:only-of-type {\n        vertical-align: middle;\n    }\n\n    .dataframe tbody tr th {\n        vertical-align: top;\n    }\n\n    .dataframe thead th {\n        text-align: right;\n    }\n</style>\n<table border=\"1\" class=\"dataframe\">\n  <thead>\n    <tr style=\"text-align: right;\">\n      <th></th>\n      <th>alt_hpo</th>\n      <th>hpo</th>\n    </tr>\n  </thead>\n  <tbody>\n    <tr>\n      <td>0</td>\n      <td>HP:0003838</td>\n      <td>HP:0002817</td>\n    </tr>\n    <tr>\n      <td>0</td>\n      <td>HP:0005858</td>\n      <td>HP:0001155</td>\n    </tr>\n  </tbody>\n</table>\n</div>"
     },
     "metadata": {},
     "execution_count": 16
    }
   ],
   "source": [
    "lst = ['HP:0002817', 'HP:0001155']\n",
    "graph_alternate_direct_ids(lst, g)"
   ]
  },
  {
   "source": [
    "## Get Child and Parent Relationships\n",
    "\n",
    "**Input:** One HPO code; HPO graph network\n",
    "\n",
    "**Output:** DataFrame with related hpos, orginal hpo, and type of relationship \n"
   ],
   "cell_type": "markdown",
   "metadata": {}
  },
  {
   "cell_type": "code",
   "execution_count": 17,
   "metadata": {},
   "outputs": [
    {
     "output_type": "stream",
     "name": "stdout",
     "text": [
      "Help on function get_child_parent in module __main__:\n\nget_child_parent(hpo_code, graph_network)\n    This function takes one hpo code and returns the parent and child hpos.\n\n"
     ]
    }
   ],
   "source": [
    "help(get_child_parent)"
   ]
  },
  {
   "cell_type": "code",
   "execution_count": 18,
   "metadata": {},
   "outputs": [
    {
     "output_type": "execute_result",
     "data": {
      "text/plain": [
       "  related_hpo         hpo relationship\n",
       "0  HP:0040064  HP:0002817       Parent\n",
       "0  HP:0001155  HP:0002817        Child\n",
       "1  HP:0001446  HP:0002817        Child\n",
       "2  HP:0001454  HP:0002817        Child\n",
       "3  HP:0002973  HP:0002817        Child"
      ],
      "text/html": "<div>\n<style scoped>\n    .dataframe tbody tr th:only-of-type {\n        vertical-align: middle;\n    }\n\n    .dataframe tbody tr th {\n        vertical-align: top;\n    }\n\n    .dataframe thead th {\n        text-align: right;\n    }\n</style>\n<table border=\"1\" class=\"dataframe\">\n  <thead>\n    <tr style=\"text-align: right;\">\n      <th></th>\n      <th>related_hpo</th>\n      <th>hpo</th>\n      <th>relationship</th>\n    </tr>\n  </thead>\n  <tbody>\n    <tr>\n      <td>0</td>\n      <td>HP:0040064</td>\n      <td>HP:0002817</td>\n      <td>Parent</td>\n    </tr>\n    <tr>\n      <td>0</td>\n      <td>HP:0001155</td>\n      <td>HP:0002817</td>\n      <td>Child</td>\n    </tr>\n    <tr>\n      <td>1</td>\n      <td>HP:0001446</td>\n      <td>HP:0002817</td>\n      <td>Child</td>\n    </tr>\n    <tr>\n      <td>2</td>\n      <td>HP:0001454</td>\n      <td>HP:0002817</td>\n      <td>Child</td>\n    </tr>\n    <tr>\n      <td>3</td>\n      <td>HP:0002973</td>\n      <td>HP:0002817</td>\n      <td>Child</td>\n    </tr>\n  </tbody>\n</table>\n</div>"
     },
     "metadata": {},
     "execution_count": 18
    }
   ],
   "source": [
    "df = get_child_parent('HP:0002817', g)\n",
    "df.head(5)"
   ]
  },
  {
   "source": [
    "## Get Child and Parent Relationships AND Alternative Ids\n",
    "\n",
    "**Input:** One HPO code; HPO graph network\n",
    "\n",
    "**Output:** DataFrame with related hpos, orginal hpo, and type of relationship "
   ],
   "cell_type": "markdown",
   "metadata": {}
  },
  {
   "cell_type": "code",
   "execution_count": 19,
   "metadata": {},
   "outputs": [
    {
     "output_type": "stream",
     "name": "stdout",
     "text": [
      "Help on function get_child_parent_and_alternatives in module __main__:\n\nget_child_parent_and_alternatives(hpo_code, graph_network)\n    Combines the:\n    1. get_child_parent function, with\n    2. graph alternate_direct_ids function\n    \n    To get a full list of all parent and child and thier alternative ids for one hpo code.\n\n"
     ]
    }
   ],
   "source": [
    "#Comments\n",
    "help(get_child_parent_and_alternatives)"
   ]
  },
  {
   "cell_type": "code",
   "execution_count": 20,
   "metadata": {},
   "outputs": [
    {
     "output_type": "execute_result",
     "data": {
      "text/plain": [
       "  related_hpos_with_alternates         hpo relationship\n",
       "0                   HP:0040064  HP:0002817       Parent\n",
       "0                   HP:0001155  HP:0002817        Child\n",
       "1                   HP:0001446  HP:0002817        Child\n",
       "2                   HP:0001454  HP:0002817        Child\n",
       "3                   HP:0002973  HP:0002817        Child"
      ],
      "text/html": "<div>\n<style scoped>\n    .dataframe tbody tr th:only-of-type {\n        vertical-align: middle;\n    }\n\n    .dataframe tbody tr th {\n        vertical-align: top;\n    }\n\n    .dataframe thead th {\n        text-align: right;\n    }\n</style>\n<table border=\"1\" class=\"dataframe\">\n  <thead>\n    <tr style=\"text-align: right;\">\n      <th></th>\n      <th>related_hpos_with_alternates</th>\n      <th>hpo</th>\n      <th>relationship</th>\n    </tr>\n  </thead>\n  <tbody>\n    <tr>\n      <td>0</td>\n      <td>HP:0040064</td>\n      <td>HP:0002817</td>\n      <td>Parent</td>\n    </tr>\n    <tr>\n      <td>0</td>\n      <td>HP:0001155</td>\n      <td>HP:0002817</td>\n      <td>Child</td>\n    </tr>\n    <tr>\n      <td>1</td>\n      <td>HP:0001446</td>\n      <td>HP:0002817</td>\n      <td>Child</td>\n    </tr>\n    <tr>\n      <td>2</td>\n      <td>HP:0001454</td>\n      <td>HP:0002817</td>\n      <td>Child</td>\n    </tr>\n    <tr>\n      <td>3</td>\n      <td>HP:0002973</td>\n      <td>HP:0002817</td>\n      <td>Child</td>\n    </tr>\n  </tbody>\n</table>\n</div>"
     },
     "metadata": {},
     "execution_count": 20
    }
   ],
   "source": [
    "#Example\n",
    "df = get_child_parent_and_alternatives('HP:0002817', g)\n",
    "df.head(5)"
   ]
  },
  {
   "source": [
    "# Mondo API Annotation\n",
    "\n",
    "## Get one Mondo Annotation\n",
    "\n",
    "**Input:** Text for Annotation; Id for text; You can set the modifications allowed in the api\n",
    "\n",
    "**Output:** DataFrame all mondo annotations, the mondo category, the term annotated, and the Id for text"
   ],
   "cell_type": "markdown",
   "metadata": {}
  },
  {
   "cell_type": "code",
   "execution_count": 21,
   "metadata": {},
   "outputs": [
    {
     "output_type": "stream",
     "name": "stdout",
     "text": [
      "Help on function get_one_mondo_annotation in module __main__:\n\nget_one_mondo_annotation(text, text_id, min_word_length=4, longest_only='true', include_abbreviation='false', include_acronym='false', include_numbers='false')\n    Creates a call to the mondo anotator.  it allows for the same modifications to the mondo annotator as the api itself.\n    \n    Requires input of:\n        - Text to be examined\n        - ID for the text, most commonly PubMedId\n\n"
     ]
    }
   ],
   "source": [
    "help(get_one_mondo_annotation)"
   ]
  },
  {
   "cell_type": "code",
   "execution_count": 22,
   "metadata": {},
   "outputs": [
    {
     "output_type": "execute_result",
     "data": {
      "text/plain": [
       "                      id               category  \\\n",
       "0             HP:0032320                     []   \n",
       "1             RO:0002418                     []   \n",
       "2             RO:0002264                     []   \n",
       "3         UBERON:0003101  ['anatomical entity']   \n",
       "4           PATO:0000384            ['quality']   \n",
       "..                   ...                    ...   \n",
       "110         PATO:0000427            ['quality']   \n",
       "111        foaf:Document                     []   \n",
       "112          IAO:0000310        ['publication']   \n",
       "113          IAO:0000572                     []   \n",
       "114  schema:CreativeWork                     []   \n",
       "\n",
       "                                  terms   text_id  \n",
       "0                          ['Affected']  17088400  \n",
       "1    ['causally upstream of or within']  17088400  \n",
       "2        ['acts upstream of or within']  17088400  \n",
       "3                     ['male organism']  17088400  \n",
       "4                              ['male']  17088400  \n",
       "..                                  ...       ...  \n",
       "110                       ['recurrent']  17088400  \n",
       "111                        ['Document']  17088400  \n",
       "112                        ['document']  17088400  \n",
       "113                     ['documenting']  17088400  \n",
       "114                        ['Document']  17088400  \n",
       "\n",
       "[70 rows x 4 columns]"
      ],
      "text/html": "<div>\n<style scoped>\n    .dataframe tbody tr th:only-of-type {\n        vertical-align: middle;\n    }\n\n    .dataframe tbody tr th {\n        vertical-align: top;\n    }\n\n    .dataframe thead th {\n        text-align: right;\n    }\n</style>\n<table border=\"1\" class=\"dataframe\">\n  <thead>\n    <tr style=\"text-align: right;\">\n      <th></th>\n      <th>id</th>\n      <th>category</th>\n      <th>terms</th>\n      <th>text_id</th>\n    </tr>\n  </thead>\n  <tbody>\n    <tr>\n      <td>0</td>\n      <td>HP:0032320</td>\n      <td>[]</td>\n      <td>['Affected']</td>\n      <td>17088400</td>\n    </tr>\n    <tr>\n      <td>1</td>\n      <td>RO:0002418</td>\n      <td>[]</td>\n      <td>['causally upstream of or within']</td>\n      <td>17088400</td>\n    </tr>\n    <tr>\n      <td>2</td>\n      <td>RO:0002264</td>\n      <td>[]</td>\n      <td>['acts upstream of or within']</td>\n      <td>17088400</td>\n    </tr>\n    <tr>\n      <td>3</td>\n      <td>UBERON:0003101</td>\n      <td>['anatomical entity']</td>\n      <td>['male organism']</td>\n      <td>17088400</td>\n    </tr>\n    <tr>\n      <td>4</td>\n      <td>PATO:0000384</td>\n      <td>['quality']</td>\n      <td>['male']</td>\n      <td>17088400</td>\n    </tr>\n    <tr>\n      <td>...</td>\n      <td>...</td>\n      <td>...</td>\n      <td>...</td>\n      <td>...</td>\n    </tr>\n    <tr>\n      <td>110</td>\n      <td>PATO:0000427</td>\n      <td>['quality']</td>\n      <td>['recurrent']</td>\n      <td>17088400</td>\n    </tr>\n    <tr>\n      <td>111</td>\n      <td>foaf:Document</td>\n      <td>[]</td>\n      <td>['Document']</td>\n      <td>17088400</td>\n    </tr>\n    <tr>\n      <td>112</td>\n      <td>IAO:0000310</td>\n      <td>['publication']</td>\n      <td>['document']</td>\n      <td>17088400</td>\n    </tr>\n    <tr>\n      <td>113</td>\n      <td>IAO:0000572</td>\n      <td>[]</td>\n      <td>['documenting']</td>\n      <td>17088400</td>\n    </tr>\n    <tr>\n      <td>114</td>\n      <td>schema:CreativeWork</td>\n      <td>[]</td>\n      <td>['Document']</td>\n      <td>17088400</td>\n    </tr>\n  </tbody>\n</table>\n<p>70 rows × 4 columns</p>\n</div>"
     },
     "metadata": {},
     "execution_count": 22
    }
   ],
   "source": [
    "get_one_mondo_annotation(abstract.iloc[0, :]['text'], abstract.iloc[0, :]['text_id'], min_word_length = 4, longest_only = 'true', \n",
    "                        include_abbreviation = 'false', include_acronym = 'false', include_numbers = 'false')"
   ]
  },
  {
   "source": [
    "## Get All Mondo Annotations\n",
    "\n",
    "**Input:** DataFrame (that contains Text for Annotation; Id for text); HPO graph network\n",
    "\n",
    "**Output:** DataFrame all mondo annotations, the mondo category, the term annotated, and the Id for text"
   ],
   "cell_type": "markdown",
   "metadata": {}
  },
  {
   "cell_type": "code",
   "execution_count": 23,
   "metadata": {},
   "outputs": [
    {
     "output_type": "execute_result",
     "data": {
      "text/plain": [
       "      annotation_id                  category  \\\n",
       "0        HP:0032320                        []   \n",
       "1        RO:0002418                        []   \n",
       "2        RO:0002264                        []   \n",
       "3    UBERON:0003101     ['anatomical entity']   \n",
       "4      PATO:0000384               ['quality']   \n",
       "..              ...                       ...   \n",
       "88       MP:0000519  ['phenotype', 'quality']   \n",
       "89       HP:0000126  ['phenotype', 'quality']   \n",
       "90     PATO:0000463               ['quality']   \n",
       "91    MONDO:0017806    ['disease', 'quality']   \n",
       "104   MONDO:0000001               ['disease']   \n",
       "\n",
       "                                  terms   text_id  \n",
       "0                          ['Affected']  17088400  \n",
       "1    ['causally upstream of or within']  17088400  \n",
       "2        ['acts upstream of or within']  17088400  \n",
       "3                     ['male organism']  17088400  \n",
       "4                              ['male']  17088400  \n",
       "..                                  ...       ...  \n",
       "88                   ['hydronephrosis']  19133692  \n",
       "89                   ['Hydronephrosis']  19133692  \n",
       "90                      ['conspicuous']  19133692  \n",
       "91          ['15q overgrowth syndrome']  19133692  \n",
       "104             ['disease or disorder']  19133692  \n",
       "\n",
       "[137 rows x 4 columns]"
      ],
      "text/html": "<div>\n<style scoped>\n    .dataframe tbody tr th:only-of-type {\n        vertical-align: middle;\n    }\n\n    .dataframe tbody tr th {\n        vertical-align: top;\n    }\n\n    .dataframe thead th {\n        text-align: right;\n    }\n</style>\n<table border=\"1\" class=\"dataframe\">\n  <thead>\n    <tr style=\"text-align: right;\">\n      <th></th>\n      <th>annotation_id</th>\n      <th>category</th>\n      <th>terms</th>\n      <th>text_id</th>\n    </tr>\n  </thead>\n  <tbody>\n    <tr>\n      <td>0</td>\n      <td>HP:0032320</td>\n      <td>[]</td>\n      <td>['Affected']</td>\n      <td>17088400</td>\n    </tr>\n    <tr>\n      <td>1</td>\n      <td>RO:0002418</td>\n      <td>[]</td>\n      <td>['causally upstream of or within']</td>\n      <td>17088400</td>\n    </tr>\n    <tr>\n      <td>2</td>\n      <td>RO:0002264</td>\n      <td>[]</td>\n      <td>['acts upstream of or within']</td>\n      <td>17088400</td>\n    </tr>\n    <tr>\n      <td>3</td>\n      <td>UBERON:0003101</td>\n      <td>['anatomical entity']</td>\n      <td>['male organism']</td>\n      <td>17088400</td>\n    </tr>\n    <tr>\n      <td>4</td>\n      <td>PATO:0000384</td>\n      <td>['quality']</td>\n      <td>['male']</td>\n      <td>17088400</td>\n    </tr>\n    <tr>\n      <td>...</td>\n      <td>...</td>\n      <td>...</td>\n      <td>...</td>\n      <td>...</td>\n    </tr>\n    <tr>\n      <td>88</td>\n      <td>MP:0000519</td>\n      <td>['phenotype', 'quality']</td>\n      <td>['hydronephrosis']</td>\n      <td>19133692</td>\n    </tr>\n    <tr>\n      <td>89</td>\n      <td>HP:0000126</td>\n      <td>['phenotype', 'quality']</td>\n      <td>['Hydronephrosis']</td>\n      <td>19133692</td>\n    </tr>\n    <tr>\n      <td>90</td>\n      <td>PATO:0000463</td>\n      <td>['quality']</td>\n      <td>['conspicuous']</td>\n      <td>19133692</td>\n    </tr>\n    <tr>\n      <td>91</td>\n      <td>MONDO:0017806</td>\n      <td>['disease', 'quality']</td>\n      <td>['15q overgrowth syndrome']</td>\n      <td>19133692</td>\n    </tr>\n    <tr>\n      <td>104</td>\n      <td>MONDO:0000001</td>\n      <td>['disease']</td>\n      <td>['disease or disorder']</td>\n      <td>19133692</td>\n    </tr>\n  </tbody>\n</table>\n<p>137 rows × 4 columns</p>\n</div>"
     },
     "metadata": {},
     "execution_count": 23
    }
   ],
   "source": [
    "mondo_df = get_all_mondo_annotations(abstract, min_word_length_all = 4, longest_only_all = 'true', \n",
    "                    include_abbreviation_all ='false', include_acronym_all = 'false',include_numbers_all = 'false')\n",
    "\n",
    "mondo_df"
   ]
  },
  {
   "source": [
    "## Cleaning Mondo Annotations\n",
    "**Input:** DataFrame (that contains Text for Annotation; Id for text); HPO graph network\n",
    "\n",
    "**Output:** DataFrame all mondo annotations, the mondo category, the term annotated, and the Id for text"
   ],
   "cell_type": "markdown",
   "metadata": {}
  },
  {
   "cell_type": "code",
   "execution_count": 24,
   "metadata": {},
   "outputs": [
    {
     "output_type": "stream",
     "name": "stdout",
     "text": [
      "Help on function cleaning_mondo_to_hpo in module __main__:\n\ncleaning_mondo_to_hpo(mondo_data_frame)\n    Makes sure HPO code is being referenced.  \n    Can be used with one or many annotations.\n\n"
     ]
    }
   ],
   "source": [
    "help(cleaning_mondo_to_hpo)"
   ]
  },
  {
   "cell_type": "code",
   "execution_count": 25,
   "metadata": {},
   "outputs": [
    {
     "output_type": "execute_result",
     "data": {
      "text/plain": [
       "            hpo                  category  \\\n",
       "0    HP:0032320                        []   \n",
       "8    HP:0001417           ['inheritance']   \n",
       "10   HP:0010864  ['phenotype', 'quality']   \n",
       "11   HP:0001290  ['phenotype', 'quality']   \n",
       "13   HP:0002205  ['phenotype', 'quality']   \n",
       "29   HP:0001249  ['phenotype', 'quality']   \n",
       "83   HP:0008947  ['phenotype', 'quality']   \n",
       "87   HP:0001344  ['phenotype', 'quality']   \n",
       "89   HP:0001250  ['phenotype', 'quality']   \n",
       "92   HP:0001257  ['phenotype', 'quality']   \n",
       "105  HP:0012828                        []   \n",
       "107  HP:0001263  ['phenotype', 'quality']   \n",
       "109  HP:0031796       ['clinical_course']   \n",
       "4    HP:0012839                        []   \n",
       "31   HP:0001548  ['phenotype', 'quality']   \n",
       "70   HP:0000077  ['phenotype', 'quality']   \n",
       "74   HP:0000275  ['phenotype', 'quality']   \n",
       "75   HP:0000303  ['phenotype', 'quality']   \n",
       "81   HP:0000104  ['phenotype', 'quality']   \n",
       "85   HP:0000085  ['phenotype', 'quality']   \n",
       "89   HP:0000126  ['phenotype', 'quality']   \n",
       "\n",
       "                                    terms   text_id  \n",
       "0                            ['Affected']  17088400  \n",
       "8                ['X-linked inheritance']  17088400  \n",
       "10    ['Intellectual disability, severe']  17088400  \n",
       "11              ['Generalized hypotonia']  17088400  \n",
       "13   ['Recurrent respiratory infections']  17088400  \n",
       "29            ['Intellectual disability']  17088400  \n",
       "83       ['Infantile muscular hypotonia']  17088400  \n",
       "87                      ['Absent speech']  17088400  \n",
       "89                            ['Seizure']  17088400  \n",
       "92                         ['Spasticity']  17088400  \n",
       "105                            ['Severe']  17088400  \n",
       "107        ['Global developmental delay']  17088400  \n",
       "109                         ['Recurrent']  17088400  \n",
       "4                              ['Distal']  19133692  \n",
       "31                         ['Overgrowth']  19133692  \n",
       "70          ['Abnormality of the kidney']  19133692  \n",
       "74                        ['Narrow face']  19133692  \n",
       "75              ['Mandibular prognathia']  19133692  \n",
       "81                     ['Renal agenesis']  19133692  \n",
       "85                   ['Horseshoe kidney']  19133692  \n",
       "89                     ['Hydronephrosis']  19133692  "
      ],
      "text/html": "<div>\n<style scoped>\n    .dataframe tbody tr th:only-of-type {\n        vertical-align: middle;\n    }\n\n    .dataframe tbody tr th {\n        vertical-align: top;\n    }\n\n    .dataframe thead th {\n        text-align: right;\n    }\n</style>\n<table border=\"1\" class=\"dataframe\">\n  <thead>\n    <tr style=\"text-align: right;\">\n      <th></th>\n      <th>hpo</th>\n      <th>category</th>\n      <th>terms</th>\n      <th>text_id</th>\n    </tr>\n  </thead>\n  <tbody>\n    <tr>\n      <td>0</td>\n      <td>HP:0032320</td>\n      <td>[]</td>\n      <td>['Affected']</td>\n      <td>17088400</td>\n    </tr>\n    <tr>\n      <td>8</td>\n      <td>HP:0001417</td>\n      <td>['inheritance']</td>\n      <td>['X-linked inheritance']</td>\n      <td>17088400</td>\n    </tr>\n    <tr>\n      <td>10</td>\n      <td>HP:0010864</td>\n      <td>['phenotype', 'quality']</td>\n      <td>['Intellectual disability, severe']</td>\n      <td>17088400</td>\n    </tr>\n    <tr>\n      <td>11</td>\n      <td>HP:0001290</td>\n      <td>['phenotype', 'quality']</td>\n      <td>['Generalized hypotonia']</td>\n      <td>17088400</td>\n    </tr>\n    <tr>\n      <td>13</td>\n      <td>HP:0002205</td>\n      <td>['phenotype', 'quality']</td>\n      <td>['Recurrent respiratory infections']</td>\n      <td>17088400</td>\n    </tr>\n    <tr>\n      <td>29</td>\n      <td>HP:0001249</td>\n      <td>['phenotype', 'quality']</td>\n      <td>['Intellectual disability']</td>\n      <td>17088400</td>\n    </tr>\n    <tr>\n      <td>83</td>\n      <td>HP:0008947</td>\n      <td>['phenotype', 'quality']</td>\n      <td>['Infantile muscular hypotonia']</td>\n      <td>17088400</td>\n    </tr>\n    <tr>\n      <td>87</td>\n      <td>HP:0001344</td>\n      <td>['phenotype', 'quality']</td>\n      <td>['Absent speech']</td>\n      <td>17088400</td>\n    </tr>\n    <tr>\n      <td>89</td>\n      <td>HP:0001250</td>\n      <td>['phenotype', 'quality']</td>\n      <td>['Seizure']</td>\n      <td>17088400</td>\n    </tr>\n    <tr>\n      <td>92</td>\n      <td>HP:0001257</td>\n      <td>['phenotype', 'quality']</td>\n      <td>['Spasticity']</td>\n      <td>17088400</td>\n    </tr>\n    <tr>\n      <td>105</td>\n      <td>HP:0012828</td>\n      <td>[]</td>\n      <td>['Severe']</td>\n      <td>17088400</td>\n    </tr>\n    <tr>\n      <td>107</td>\n      <td>HP:0001263</td>\n      <td>['phenotype', 'quality']</td>\n      <td>['Global developmental delay']</td>\n      <td>17088400</td>\n    </tr>\n    <tr>\n      <td>109</td>\n      <td>HP:0031796</td>\n      <td>['clinical_course']</td>\n      <td>['Recurrent']</td>\n      <td>17088400</td>\n    </tr>\n    <tr>\n      <td>4</td>\n      <td>HP:0012839</td>\n      <td>[]</td>\n      <td>['Distal']</td>\n      <td>19133692</td>\n    </tr>\n    <tr>\n      <td>31</td>\n      <td>HP:0001548</td>\n      <td>['phenotype', 'quality']</td>\n      <td>['Overgrowth']</td>\n      <td>19133692</td>\n    </tr>\n    <tr>\n      <td>70</td>\n      <td>HP:0000077</td>\n      <td>['phenotype', 'quality']</td>\n      <td>['Abnormality of the kidney']</td>\n      <td>19133692</td>\n    </tr>\n    <tr>\n      <td>74</td>\n      <td>HP:0000275</td>\n      <td>['phenotype', 'quality']</td>\n      <td>['Narrow face']</td>\n      <td>19133692</td>\n    </tr>\n    <tr>\n      <td>75</td>\n      <td>HP:0000303</td>\n      <td>['phenotype', 'quality']</td>\n      <td>['Mandibular prognathia']</td>\n      <td>19133692</td>\n    </tr>\n    <tr>\n      <td>81</td>\n      <td>HP:0000104</td>\n      <td>['phenotype', 'quality']</td>\n      <td>['Renal agenesis']</td>\n      <td>19133692</td>\n    </tr>\n    <tr>\n      <td>85</td>\n      <td>HP:0000085</td>\n      <td>['phenotype', 'quality']</td>\n      <td>['Horseshoe kidney']</td>\n      <td>19133692</td>\n    </tr>\n    <tr>\n      <td>89</td>\n      <td>HP:0000126</td>\n      <td>['phenotype', 'quality']</td>\n      <td>['Hydronephrosis']</td>\n      <td>19133692</td>\n    </tr>\n  </tbody>\n</table>\n</div>"
     },
     "metadata": {},
     "execution_count": 25
    }
   ],
   "source": [
    "mondo_df_cleaned = cleaning_mondo_to_hpo(mondo_df)\n",
    "mondo_df_cleaned"
   ]
  },
  {
   "source": [
    "# MetaMap API Annotator\n",
    "\n",
    "## Get one Metamap Annotation\n",
    "\n",
    "**Input:** Text for Annotation; Id for text\n",
    "\n",
    "**Output:** DataFrame all metamap annoations and the pubmed id associated with the annotations"
   ],
   "cell_type": "markdown",
   "metadata": {}
  },
  {
   "cell_type": "code",
   "execution_count": 26,
   "metadata": {},
   "outputs": [
    {
     "output_type": "stream",
     "name": "stdout",
     "text": [
      "Help on function get_one_metamap_annotation in module __main__:\n\nget_one_metamap_annotation(text, text_id)\n    The metamap api cannont take more than ~1000(?) characters, so we break the text into one sentance each,\n    then run each sentance through the metamap annotator.\n\n"
     ]
    }
   ],
   "source": [
    "help(get_one_metamap_annotation)"
   ]
  },
  {
   "cell_type": "code",
   "execution_count": 27,
   "metadata": {},
   "outputs": [
    {
     "output_type": "execute_result",
     "data": {
      "text/plain": [
       "                                             sources conceptId conceptName  \\\n",
       "0        [AOD, CHV, LNC, MSH, MTH, NCI, SNOMEDCT_US]  C0018017   Objective   \n",
       "0                       [LNC, MTH, NCI, SNOMEDCT_US]  C1571702   Objective   \n",
       "0        [AOD, CHV, LNC, MSH, MTH, NCI, SNOMEDCT_US]  C0018017        Goal   \n",
       "0                                     [HL7V3.0, MTH]  C1571704        Goal   \n",
       "0  [AOD, CHV, LCH, MSH, MTH, NCI, NCI_CDISC, SNOM...  C0040363          TO   \n",
       "\n",
       "  semanticTypes          preferredName  \\\n",
       "0        [inpr]       objective (goal)   \n",
       "0        [qlco]  Objective observation   \n",
       "0        [inpr]       objective (goal)   \n",
       "0        [idcn]        Act Mood - Goal   \n",
       "0        [geoa]                   Togo   \n",
       "\n",
       "                                        matchMapList matchedWords  head  \\\n",
       "0  [{'conceptMatchEnd': 1, 'lexMatchVariation': 0...  [objective]  True   \n",
       "0  [{'conceptMatchEnd': 1, 'lexMatchVariation': 0...  [objective]  True   \n",
       "0  [{'conceptMatchEnd': 1, 'lexMatchVariation': 0...       [goal]  True   \n",
       "0  [{'conceptMatchEnd': 1, 'lexMatchVariation': 0...       [goal]  True   \n",
       "0  [{'conceptMatchEnd': 1, 'lexMatchVariation': 0...         [to]  True   \n",
       "\n",
       "   overmatch       positionalInfo  pruningStatus  negationStatus  score  \\\n",
       "0      False   [{'x': 0, 'y': 9}]              0               0  -1000   \n",
       "0      False   [{'x': 0, 'y': 9}]              0               0  -1000   \n",
       "0      False  [{'x': 15, 'y': 4}]              0               0  -1000   \n",
       "0      False  [{'x': 15, 'y': 4}]              0               0  -1000   \n",
       "0      False  [{'x': 24, 'y': 2}]              0               0  -1000   \n",
       "\n",
       "   negated   text_id  \n",
       "0    False  17088400  \n",
       "0    False  17088400  \n",
       "0    False  17088400  \n",
       "0    False  17088400  \n",
       "0    False  17088400  "
      ],
      "text/html": "<div>\n<style scoped>\n    .dataframe tbody tr th:only-of-type {\n        vertical-align: middle;\n    }\n\n    .dataframe tbody tr th {\n        vertical-align: top;\n    }\n\n    .dataframe thead th {\n        text-align: right;\n    }\n</style>\n<table border=\"1\" class=\"dataframe\">\n  <thead>\n    <tr style=\"text-align: right;\">\n      <th></th>\n      <th>sources</th>\n      <th>conceptId</th>\n      <th>conceptName</th>\n      <th>semanticTypes</th>\n      <th>preferredName</th>\n      <th>matchMapList</th>\n      <th>matchedWords</th>\n      <th>head</th>\n      <th>overmatch</th>\n      <th>positionalInfo</th>\n      <th>pruningStatus</th>\n      <th>negationStatus</th>\n      <th>score</th>\n      <th>negated</th>\n      <th>text_id</th>\n    </tr>\n  </thead>\n  <tbody>\n    <tr>\n      <td>0</td>\n      <td>[AOD, CHV, LNC, MSH, MTH, NCI, SNOMEDCT_US]</td>\n      <td>C0018017</td>\n      <td>Objective</td>\n      <td>[inpr]</td>\n      <td>objective (goal)</td>\n      <td>[{'conceptMatchEnd': 1, 'lexMatchVariation': 0...</td>\n      <td>[objective]</td>\n      <td>True</td>\n      <td>False</td>\n      <td>[{'x': 0, 'y': 9}]</td>\n      <td>0</td>\n      <td>0</td>\n      <td>-1000</td>\n      <td>False</td>\n      <td>17088400</td>\n    </tr>\n    <tr>\n      <td>0</td>\n      <td>[LNC, MTH, NCI, SNOMEDCT_US]</td>\n      <td>C1571702</td>\n      <td>Objective</td>\n      <td>[qlco]</td>\n      <td>Objective observation</td>\n      <td>[{'conceptMatchEnd': 1, 'lexMatchVariation': 0...</td>\n      <td>[objective]</td>\n      <td>True</td>\n      <td>False</td>\n      <td>[{'x': 0, 'y': 9}]</td>\n      <td>0</td>\n      <td>0</td>\n      <td>-1000</td>\n      <td>False</td>\n      <td>17088400</td>\n    </tr>\n    <tr>\n      <td>0</td>\n      <td>[AOD, CHV, LNC, MSH, MTH, NCI, SNOMEDCT_US]</td>\n      <td>C0018017</td>\n      <td>Goal</td>\n      <td>[inpr]</td>\n      <td>objective (goal)</td>\n      <td>[{'conceptMatchEnd': 1, 'lexMatchVariation': 0...</td>\n      <td>[goal]</td>\n      <td>True</td>\n      <td>False</td>\n      <td>[{'x': 15, 'y': 4}]</td>\n      <td>0</td>\n      <td>0</td>\n      <td>-1000</td>\n      <td>False</td>\n      <td>17088400</td>\n    </tr>\n    <tr>\n      <td>0</td>\n      <td>[HL7V3.0, MTH]</td>\n      <td>C1571704</td>\n      <td>Goal</td>\n      <td>[idcn]</td>\n      <td>Act Mood - Goal</td>\n      <td>[{'conceptMatchEnd': 1, 'lexMatchVariation': 0...</td>\n      <td>[goal]</td>\n      <td>True</td>\n      <td>False</td>\n      <td>[{'x': 15, 'y': 4}]</td>\n      <td>0</td>\n      <td>0</td>\n      <td>-1000</td>\n      <td>False</td>\n      <td>17088400</td>\n    </tr>\n    <tr>\n      <td>0</td>\n      <td>[AOD, CHV, LCH, MSH, MTH, NCI, NCI_CDISC, SNOM...</td>\n      <td>C0040363</td>\n      <td>TO</td>\n      <td>[geoa]</td>\n      <td>Togo</td>\n      <td>[{'conceptMatchEnd': 1, 'lexMatchVariation': 0...</td>\n      <td>[to]</td>\n      <td>True</td>\n      <td>False</td>\n      <td>[{'x': 24, 'y': 2}]</td>\n      <td>0</td>\n      <td>0</td>\n      <td>-1000</td>\n      <td>False</td>\n      <td>17088400</td>\n    </tr>\n  </tbody>\n</table>\n</div>"
     },
     "metadata": {},
     "execution_count": 27
    }
   ],
   "source": [
    "df = get_one_metamap_annotation(abstract.iloc[0, :]['text'], abstract.iloc[0, :]['text_id'])\n",
    "df.head(5)"
   ]
  },
  {
   "source": [
    "## Get All Metamap Annotations\n",
    "\n",
    "**Input:** Data frame (with Text for Annotation; Id for text)\n",
    "\n",
    "**Output:** DataFrame all metamap annoations and the pubmed id associated with the annotations"
   ],
   "cell_type": "markdown",
   "metadata": {}
  },
  {
   "cell_type": "code",
   "execution_count": 28,
   "metadata": {},
   "outputs": [
    {
     "output_type": "stream",
     "name": "stdout",
     "text": [
      "Help on function get_all_metamap_annotations in module __main__:\n\nget_all_metamap_annotations(dataset)\n    Runs a loop through a full dataset of text and text_ids through the get_one_metamap_annotation function.\n\n"
     ]
    }
   ],
   "source": [
    "help(get_all_metamap_annotations)"
   ]
  },
  {
   "cell_type": "code",
   "execution_count": 29,
   "metadata": {},
   "outputs": [
    {
     "output_type": "execute_result",
     "data": {
      "text/plain": [
       "                                             sources conceptId conceptName  \\\n",
       "0        [AOD, CHV, LNC, MSH, MTH, NCI, SNOMEDCT_US]  C0018017   Objective   \n",
       "0                       [LNC, MTH, NCI, SNOMEDCT_US]  C1571702   Objective   \n",
       "0        [AOD, CHV, LNC, MSH, MTH, NCI, SNOMEDCT_US]  C0018017        Goal   \n",
       "0                                     [HL7V3.0, MTH]  C1571704        Goal   \n",
       "0  [AOD, CHV, LCH, MSH, MTH, NCI, NCI_CDISC, SNOM...  C0040363          TO   \n",
       "\n",
       "  semanticTypes          preferredName  \\\n",
       "0        [inpr]       objective (goal)   \n",
       "0        [qlco]  Objective observation   \n",
       "0        [inpr]       objective (goal)   \n",
       "0        [idcn]        Act Mood - Goal   \n",
       "0        [geoa]                   Togo   \n",
       "\n",
       "                                        matchMapList matchedWords  head  \\\n",
       "0  [{'conceptMatchEnd': 1, 'lexMatchVariation': 0...  [objective]  True   \n",
       "0  [{'conceptMatchEnd': 1, 'lexMatchVariation': 0...  [objective]  True   \n",
       "0  [{'conceptMatchEnd': 1, 'lexMatchVariation': 0...       [goal]  True   \n",
       "0  [{'conceptMatchEnd': 1, 'lexMatchVariation': 0...       [goal]  True   \n",
       "0  [{'conceptMatchEnd': 1, 'lexMatchVariation': 0...         [to]  True   \n",
       "\n",
       "   overmatch       positionalInfo  pruningStatus  negationStatus  score  \\\n",
       "0      False   [{'x': 0, 'y': 9}]              0               0  -1000   \n",
       "0      False   [{'x': 0, 'y': 9}]              0               0  -1000   \n",
       "0      False  [{'x': 15, 'y': 4}]              0               0  -1000   \n",
       "0      False  [{'x': 15, 'y': 4}]              0               0  -1000   \n",
       "0      False  [{'x': 24, 'y': 2}]              0               0  -1000   \n",
       "\n",
       "   negated   text_id  \n",
       "0    False  17088400  \n",
       "0    False  17088400  \n",
       "0    False  17088400  \n",
       "0    False  17088400  \n",
       "0    False  17088400  "
      ],
      "text/html": "<div>\n<style scoped>\n    .dataframe tbody tr th:only-of-type {\n        vertical-align: middle;\n    }\n\n    .dataframe tbody tr th {\n        vertical-align: top;\n    }\n\n    .dataframe thead th {\n        text-align: right;\n    }\n</style>\n<table border=\"1\" class=\"dataframe\">\n  <thead>\n    <tr style=\"text-align: right;\">\n      <th></th>\n      <th>sources</th>\n      <th>conceptId</th>\n      <th>conceptName</th>\n      <th>semanticTypes</th>\n      <th>preferredName</th>\n      <th>matchMapList</th>\n      <th>matchedWords</th>\n      <th>head</th>\n      <th>overmatch</th>\n      <th>positionalInfo</th>\n      <th>pruningStatus</th>\n      <th>negationStatus</th>\n      <th>score</th>\n      <th>negated</th>\n      <th>text_id</th>\n    </tr>\n  </thead>\n  <tbody>\n    <tr>\n      <td>0</td>\n      <td>[AOD, CHV, LNC, MSH, MTH, NCI, SNOMEDCT_US]</td>\n      <td>C0018017</td>\n      <td>Objective</td>\n      <td>[inpr]</td>\n      <td>objective (goal)</td>\n      <td>[{'conceptMatchEnd': 1, 'lexMatchVariation': 0...</td>\n      <td>[objective]</td>\n      <td>True</td>\n      <td>False</td>\n      <td>[{'x': 0, 'y': 9}]</td>\n      <td>0</td>\n      <td>0</td>\n      <td>-1000</td>\n      <td>False</td>\n      <td>17088400</td>\n    </tr>\n    <tr>\n      <td>0</td>\n      <td>[LNC, MTH, NCI, SNOMEDCT_US]</td>\n      <td>C1571702</td>\n      <td>Objective</td>\n      <td>[qlco]</td>\n      <td>Objective observation</td>\n      <td>[{'conceptMatchEnd': 1, 'lexMatchVariation': 0...</td>\n      <td>[objective]</td>\n      <td>True</td>\n      <td>False</td>\n      <td>[{'x': 0, 'y': 9}]</td>\n      <td>0</td>\n      <td>0</td>\n      <td>-1000</td>\n      <td>False</td>\n      <td>17088400</td>\n    </tr>\n    <tr>\n      <td>0</td>\n      <td>[AOD, CHV, LNC, MSH, MTH, NCI, SNOMEDCT_US]</td>\n      <td>C0018017</td>\n      <td>Goal</td>\n      <td>[inpr]</td>\n      <td>objective (goal)</td>\n      <td>[{'conceptMatchEnd': 1, 'lexMatchVariation': 0...</td>\n      <td>[goal]</td>\n      <td>True</td>\n      <td>False</td>\n      <td>[{'x': 15, 'y': 4}]</td>\n      <td>0</td>\n      <td>0</td>\n      <td>-1000</td>\n      <td>False</td>\n      <td>17088400</td>\n    </tr>\n    <tr>\n      <td>0</td>\n      <td>[HL7V3.0, MTH]</td>\n      <td>C1571704</td>\n      <td>Goal</td>\n      <td>[idcn]</td>\n      <td>Act Mood - Goal</td>\n      <td>[{'conceptMatchEnd': 1, 'lexMatchVariation': 0...</td>\n      <td>[goal]</td>\n      <td>True</td>\n      <td>False</td>\n      <td>[{'x': 15, 'y': 4}]</td>\n      <td>0</td>\n      <td>0</td>\n      <td>-1000</td>\n      <td>False</td>\n      <td>17088400</td>\n    </tr>\n    <tr>\n      <td>0</td>\n      <td>[AOD, CHV, LCH, MSH, MTH, NCI, NCI_CDISC, SNOM...</td>\n      <td>C0040363</td>\n      <td>TO</td>\n      <td>[geoa]</td>\n      <td>Togo</td>\n      <td>[{'conceptMatchEnd': 1, 'lexMatchVariation': 0...</td>\n      <td>[to]</td>\n      <td>True</td>\n      <td>False</td>\n      <td>[{'x': 24, 'y': 2}]</td>\n      <td>0</td>\n      <td>0</td>\n      <td>-1000</td>\n      <td>False</td>\n      <td>17088400</td>\n    </tr>\n  </tbody>\n</table>\n</div>"
     },
     "metadata": {},
     "execution_count": 29
    }
   ],
   "source": [
    "df = get_all_metamap_annotations(abstract)\n",
    "df.head(5)"
   ]
  },
  {
   "source": [
    "## Cleaning Metamap and Adding \n",
    "\n",
    "**Input:** Data frame (with Text for Annotation; Id for text); graph network\n",
    "\n",
    "**Output:** DataFrame all metamap annoations and the pubmed id associated with the annotations"
   ],
   "cell_type": "markdown",
   "metadata": {}
  },
  {
   "cell_type": "code",
   "execution_count": 30,
   "metadata": {},
   "outputs": [
    {
     "output_type": "stream",
     "name": "stdout",
     "text": [
      "Help on function cleaning_metamap_adding_hpo in module __main__:\n\ncleaning_metamap_adding_hpo(metamap_data_frame, graph_network)\n    Function requires a metamap data frame AND the graph network for HPO. This graph network is required\n    To get all of the umls codes from metamap returned as hpos\n    \n    This function:\n    1. Gets the hpo codes for the umls returned in the metamap.\n    2. Drops duplicate values in the data frame\n    3. Attached the hpo code to the metamap data frame and removes umls codes that do not have an hpo equivilant.\n    \n    Uses functions: get_hpos_for_umls_code\n\n"
     ]
    }
   ],
   "source": [
    "help(cleaning_metamap_adding_hpo)"
   ]
  },
  {
   "cell_type": "code",
   "execution_count": 31,
   "metadata": {},
   "outputs": [
    {
     "output_type": "execute_result",
     "data": {
      "text/plain": [
       "                                              sources conceptId  \\\n",
       "13  [AOD, CHV, DXP, HPO, MSH, MTH, OMIM, SNOMEDCT_US]  C0241764   \n",
       "15  [AOD, CHV, COSTAR, HPO, ICD10CM, ICD9CM, MTHIC...  C0036857   \n",
       "16  [AOD, CHV, CSP, CST, DXP, HPO, LCH, LCH_NW, LN...  C0026827   \n",
       "90  [AIR, AOD, CCS, CHV, COSTAR, CSP, CST, DXP, HP...  C0036572   \n",
       "91  [CHV, CST, DXP, HPO, LCH_NW, MEDLINEPLUS, MSH,...  C0026838   \n",
       "\n",
       "                   conceptName semanticTypes  \\\n",
       "13                    X-LINKED      ['genf']   \n",
       "15  Mental retardation, severe      ['mobd']   \n",
       "16                   HYPOTONIA      ['fndg']   \n",
       "90                    Seizures      ['sosy']   \n",
       "91                  SPASTICITY      ['sosy']   \n",
       "\n",
       "                             preferredName  \\\n",
       "13                    X-linked inheritance   \n",
       "15  Severe mental retardation (I.Q. 20-34)   \n",
       "16                        Muscle hypotonia   \n",
       "90                                Seizures   \n",
       "91                       Muscle Spasticity   \n",
       "\n",
       "                                         matchMapList  \\\n",
       "13  [{'conceptMatchEnd': 2, 'lexMatchVariation': 0...   \n",
       "15  [{'conceptMatchEnd': 3, 'lexMatchVariation': 0...   \n",
       "16  [{'conceptMatchEnd': 1, 'lexMatchVariation': 0...   \n",
       "90  [{'conceptMatchEnd': 1, 'lexMatchVariation': 0...   \n",
       "91  [{'conceptMatchEnd': 1, 'lexMatchVariation': 0...   \n",
       "\n",
       "                     matchedWords   head  overmatch         positionalInfo  \\\n",
       "13                    [x, linked]  False      False   [{'x': 110, 'y': 8}]   \n",
       "15  [severe, mental, retardation]   True      False  [{'x': 131, 'y': 25}]   \n",
       "16                    [hypotonia]   True      False   [{'x': 158, 'y': 9}]   \n",
       "90                     [seizures]   True      False   [{'x': 184, 'y': 8}]   \n",
       "91                   [spasticity]   True      False  [{'x': 198, 'y': 10}]   \n",
       "\n",
       "    pruningStatus  negationStatus  score  negated   text_id         hpo  \n",
       "13              0               0   -734    False  17088400  HP:0001417  \n",
       "15              0               0  -1000    False  17088400  HP:0010864  \n",
       "16              0               0  -1000    False  17088400  HP:0001252  \n",
       "90              0               1  -1000     True  17088400  HP:0001250  \n",
       "91              0               1  -1000     True  17088400  HP:0001257  "
      ],
      "text/html": "<div>\n<style scoped>\n    .dataframe tbody tr th:only-of-type {\n        vertical-align: middle;\n    }\n\n    .dataframe tbody tr th {\n        vertical-align: top;\n    }\n\n    .dataframe thead th {\n        text-align: right;\n    }\n</style>\n<table border=\"1\" class=\"dataframe\">\n  <thead>\n    <tr style=\"text-align: right;\">\n      <th></th>\n      <th>sources</th>\n      <th>conceptId</th>\n      <th>conceptName</th>\n      <th>semanticTypes</th>\n      <th>preferredName</th>\n      <th>matchMapList</th>\n      <th>matchedWords</th>\n      <th>head</th>\n      <th>overmatch</th>\n      <th>positionalInfo</th>\n      <th>pruningStatus</th>\n      <th>negationStatus</th>\n      <th>score</th>\n      <th>negated</th>\n      <th>text_id</th>\n      <th>hpo</th>\n    </tr>\n  </thead>\n  <tbody>\n    <tr>\n      <td>13</td>\n      <td>[AOD, CHV, DXP, HPO, MSH, MTH, OMIM, SNOMEDCT_US]</td>\n      <td>C0241764</td>\n      <td>X-LINKED</td>\n      <td>['genf']</td>\n      <td>X-linked inheritance</td>\n      <td>[{'conceptMatchEnd': 2, 'lexMatchVariation': 0...</td>\n      <td>[x, linked]</td>\n      <td>False</td>\n      <td>False</td>\n      <td>[{'x': 110, 'y': 8}]</td>\n      <td>0</td>\n      <td>0</td>\n      <td>-734</td>\n      <td>False</td>\n      <td>17088400</td>\n      <td>HP:0001417</td>\n    </tr>\n    <tr>\n      <td>15</td>\n      <td>[AOD, CHV, COSTAR, HPO, ICD10CM, ICD9CM, MTHIC...</td>\n      <td>C0036857</td>\n      <td>Mental retardation, severe</td>\n      <td>['mobd']</td>\n      <td>Severe mental retardation (I.Q. 20-34)</td>\n      <td>[{'conceptMatchEnd': 3, 'lexMatchVariation': 0...</td>\n      <td>[severe, mental, retardation]</td>\n      <td>True</td>\n      <td>False</td>\n      <td>[{'x': 131, 'y': 25}]</td>\n      <td>0</td>\n      <td>0</td>\n      <td>-1000</td>\n      <td>False</td>\n      <td>17088400</td>\n      <td>HP:0010864</td>\n    </tr>\n    <tr>\n      <td>16</td>\n      <td>[AOD, CHV, CSP, CST, DXP, HPO, LCH, LCH_NW, LN...</td>\n      <td>C0026827</td>\n      <td>HYPOTONIA</td>\n      <td>['fndg']</td>\n      <td>Muscle hypotonia</td>\n      <td>[{'conceptMatchEnd': 1, 'lexMatchVariation': 0...</td>\n      <td>[hypotonia]</td>\n      <td>True</td>\n      <td>False</td>\n      <td>[{'x': 158, 'y': 9}]</td>\n      <td>0</td>\n      <td>0</td>\n      <td>-1000</td>\n      <td>False</td>\n      <td>17088400</td>\n      <td>HP:0001252</td>\n    </tr>\n    <tr>\n      <td>90</td>\n      <td>[AIR, AOD, CCS, CHV, COSTAR, CSP, CST, DXP, HP...</td>\n      <td>C0036572</td>\n      <td>Seizures</td>\n      <td>['sosy']</td>\n      <td>Seizures</td>\n      <td>[{'conceptMatchEnd': 1, 'lexMatchVariation': 0...</td>\n      <td>[seizures]</td>\n      <td>True</td>\n      <td>False</td>\n      <td>[{'x': 184, 'y': 8}]</td>\n      <td>0</td>\n      <td>1</td>\n      <td>-1000</td>\n      <td>True</td>\n      <td>17088400</td>\n      <td>HP:0001250</td>\n    </tr>\n    <tr>\n      <td>91</td>\n      <td>[CHV, CST, DXP, HPO, LCH_NW, MEDLINEPLUS, MSH,...</td>\n      <td>C0026838</td>\n      <td>SPASTICITY</td>\n      <td>['sosy']</td>\n      <td>Muscle Spasticity</td>\n      <td>[{'conceptMatchEnd': 1, 'lexMatchVariation': 0...</td>\n      <td>[spasticity]</td>\n      <td>True</td>\n      <td>False</td>\n      <td>[{'x': 198, 'y': 10}]</td>\n      <td>0</td>\n      <td>1</td>\n      <td>-1000</td>\n      <td>True</td>\n      <td>17088400</td>\n      <td>HP:0001257</td>\n    </tr>\n  </tbody>\n</table>\n</div>"
     },
     "metadata": {},
     "execution_count": 31
    }
   ],
   "source": [
    "df = get_all_metamap_annotations(abstract)\n",
    "df_clean = cleaning_metamap_adding_hpo(df, g)\n",
    "df_clean.head(5)"
   ]
  },
  {
   "source": [],
   "cell_type": "markdown",
   "metadata": {}
  },
  {
   "cell_type": "code",
   "execution_count": 32,
   "metadata": {},
   "outputs": [],
   "source": [
    "# SETUP FOR FUNCTION\n",
    "\n",
    "#Annotations to test\n",
    "one_mondo_annotation = get_one_mondo_annotation(abstract.iloc[0, :]['text'], abstract.iloc[0, :]['text_id'], min_word_length = 4, longest_only = 'true', \n",
    "                        include_abbreviation = 'false', include_acronym = 'false', include_numbers = 'false')\n",
    "\n",
    "id_ref = 'PMID:' + one_mondo_annotation['text_id']\n",
    "\n",
    "one_mondo_annotation = one_mondo_annotation[one_mondo_annotation['id'].str.contains('HP:')]\n",
    "one_mondo_annotation = one_mondo_annotation[['id', 'text_id']]\n",
    "one_mondo_annotation.columns = ['hpo','text_id']\n",
    "\n",
    "#known annotations\n",
    "hpo_annotations = get_hpo_annotations_and_clean()\n",
    "hpo_annotations = hpo_annotations[hpo_annotations['reference'].isin(id_ref)]"
   ]
  },
  {
   "source": [
    "# Comparing Annotator to Test Data- Direct Matches\n",
    "\n",
    "**Input:** known_annotations dataset (with at least unqiueid and hpo columns); dataset of annotations to test (with at least hpo and text_id columns); graph network for hpo; graph network\n",
    "\n",
    "**Output:** one dataset with exact matches, annotations to test that do not have matches, known hpo annotations that do not have a match."
   ],
   "cell_type": "markdown",
   "metadata": {}
  },
  {
   "cell_type": "code",
   "execution_count": 33,
   "metadata": {},
   "outputs": [
    {
     "output_type": "stream",
     "name": "stdout",
     "text": [
      "Help on function one_annotation_direct_matching in module __main__:\n\none_annotation_direct_matching(one_hpo_annotation, one_annotation_to_test, graph_network)\n    In this function, we take one set of known hpo annotations and one set of annotations to test against this known set. For this test set, we check for hpo matches directly and with alternate ids.\n    \n    Input: known_annotations dataset (with at least unqiueid and hpo columns); dataset of annotations to test (with at least hpo and text_id columns); graph network for hpo; graph network\n    Output: dataset with exact matches, annotations to test that do not have matches, known hpo annotations that do not have a match.\n    \n    Child functions: \n    1. graph_alternate_direct_ids\n\n"
     ]
    }
   ],
   "source": [
    "help(one_annotation_direct_matching)"
   ]
  },
  {
   "cell_type": "code",
   "execution_count": 34,
   "metadata": {},
   "outputs": [
    {
     "output_type": "execute_result",
     "data": {
      "text/plain": [
       "                    uniqueid         hpo   text_id  exact_match  \\\n",
       "7    HP:0010864PMID:17088400  HP:0010864  17088400            1   \n",
       "0                        NaN  HP:0032320  17088400            0   \n",
       "8                        NaN  HP:0001417  17088400            0   \n",
       "11                       NaN  HP:0001290  17088400            0   \n",
       "13                       NaN  HP:0002205  17088400            0   \n",
       "29                       NaN  HP:0001249  17088400            0   \n",
       "83                       NaN  HP:0008947  17088400            0   \n",
       "87                       NaN  HP:0001344  17088400            0   \n",
       "89                       NaN  HP:0001250  17088400            0   \n",
       "92                       NaN  HP:0001257  17088400            0   \n",
       "105                      NaN  HP:0012828  17088400            0   \n",
       "107                      NaN  HP:0001263  17088400            0   \n",
       "109                      NaN  HP:0031796  17088400            0   \n",
       "114  HP:0000160PMID:17088400  HP:0000160       NaN            0   \n",
       "116  HP:0000252PMID:17088400  HP:0000252       NaN            0   \n",
       "129  HP:0002015PMID:17088400  HP:0002015       NaN            0   \n",
       "131  HP:0002020PMID:17088400  HP:0002020       NaN            0   \n",
       "134  HP:0002191PMID:17088400  HP:0002191       NaN            0   \n",
       "136  HP:0002307PMID:17088400  HP:0002307       NaN            0   \n",
       "138  HP:0002720PMID:17088400  HP:0002720       NaN            0   \n",
       "\n",
       "     test_set_annotations_with_no_match  known_annotations_with_no_match  \n",
       "7                                   0.0                                0  \n",
       "0                                   1.0                                0  \n",
       "8                                   1.0                                0  \n",
       "11                                  1.0                                0  \n",
       "13                                  1.0                                0  \n",
       "29                                  1.0                                0  \n",
       "83                                  1.0                                0  \n",
       "87                                  1.0                                0  \n",
       "89                                  1.0                                0  \n",
       "92                                  1.0                                0  \n",
       "105                                 1.0                                0  \n",
       "107                                 1.0                                0  \n",
       "109                                 1.0                                0  \n",
       "114                                 0.0                                1  \n",
       "116                                 0.0                                1  \n",
       "129                                 0.0                                1  \n",
       "131                                 0.0                                1  \n",
       "134                                 0.0                                1  \n",
       "136                                 0.0                                1  \n",
       "138                                 0.0                                1  "
      ],
      "text/html": "<div>\n<style scoped>\n    .dataframe tbody tr th:only-of-type {\n        vertical-align: middle;\n    }\n\n    .dataframe tbody tr th {\n        vertical-align: top;\n    }\n\n    .dataframe thead th {\n        text-align: right;\n    }\n</style>\n<table border=\"1\" class=\"dataframe\">\n  <thead>\n    <tr style=\"text-align: right;\">\n      <th></th>\n      <th>uniqueid</th>\n      <th>hpo</th>\n      <th>text_id</th>\n      <th>exact_match</th>\n      <th>test_set_annotations_with_no_match</th>\n      <th>known_annotations_with_no_match</th>\n    </tr>\n  </thead>\n  <tbody>\n    <tr>\n      <td>7</td>\n      <td>HP:0010864PMID:17088400</td>\n      <td>HP:0010864</td>\n      <td>17088400</td>\n      <td>1</td>\n      <td>0.0</td>\n      <td>0</td>\n    </tr>\n    <tr>\n      <td>0</td>\n      <td>NaN</td>\n      <td>HP:0032320</td>\n      <td>17088400</td>\n      <td>0</td>\n      <td>1.0</td>\n      <td>0</td>\n    </tr>\n    <tr>\n      <td>8</td>\n      <td>NaN</td>\n      <td>HP:0001417</td>\n      <td>17088400</td>\n      <td>0</td>\n      <td>1.0</td>\n      <td>0</td>\n    </tr>\n    <tr>\n      <td>11</td>\n      <td>NaN</td>\n      <td>HP:0001290</td>\n      <td>17088400</td>\n      <td>0</td>\n      <td>1.0</td>\n      <td>0</td>\n    </tr>\n    <tr>\n      <td>13</td>\n      <td>NaN</td>\n      <td>HP:0002205</td>\n      <td>17088400</td>\n      <td>0</td>\n      <td>1.0</td>\n      <td>0</td>\n    </tr>\n    <tr>\n      <td>29</td>\n      <td>NaN</td>\n      <td>HP:0001249</td>\n      <td>17088400</td>\n      <td>0</td>\n      <td>1.0</td>\n      <td>0</td>\n    </tr>\n    <tr>\n      <td>83</td>\n      <td>NaN</td>\n      <td>HP:0008947</td>\n      <td>17088400</td>\n      <td>0</td>\n      <td>1.0</td>\n      <td>0</td>\n    </tr>\n    <tr>\n      <td>87</td>\n      <td>NaN</td>\n      <td>HP:0001344</td>\n      <td>17088400</td>\n      <td>0</td>\n      <td>1.0</td>\n      <td>0</td>\n    </tr>\n    <tr>\n      <td>89</td>\n      <td>NaN</td>\n      <td>HP:0001250</td>\n      <td>17088400</td>\n      <td>0</td>\n      <td>1.0</td>\n      <td>0</td>\n    </tr>\n    <tr>\n      <td>92</td>\n      <td>NaN</td>\n      <td>HP:0001257</td>\n      <td>17088400</td>\n      <td>0</td>\n      <td>1.0</td>\n      <td>0</td>\n    </tr>\n    <tr>\n      <td>105</td>\n      <td>NaN</td>\n      <td>HP:0012828</td>\n      <td>17088400</td>\n      <td>0</td>\n      <td>1.0</td>\n      <td>0</td>\n    </tr>\n    <tr>\n      <td>107</td>\n      <td>NaN</td>\n      <td>HP:0001263</td>\n      <td>17088400</td>\n      <td>0</td>\n      <td>1.0</td>\n      <td>0</td>\n    </tr>\n    <tr>\n      <td>109</td>\n      <td>NaN</td>\n      <td>HP:0031796</td>\n      <td>17088400</td>\n      <td>0</td>\n      <td>1.0</td>\n      <td>0</td>\n    </tr>\n    <tr>\n      <td>114</td>\n      <td>HP:0000160PMID:17088400</td>\n      <td>HP:0000160</td>\n      <td>NaN</td>\n      <td>0</td>\n      <td>0.0</td>\n      <td>1</td>\n    </tr>\n    <tr>\n      <td>116</td>\n      <td>HP:0000252PMID:17088400</td>\n      <td>HP:0000252</td>\n      <td>NaN</td>\n      <td>0</td>\n      <td>0.0</td>\n      <td>1</td>\n    </tr>\n    <tr>\n      <td>129</td>\n      <td>HP:0002015PMID:17088400</td>\n      <td>HP:0002015</td>\n      <td>NaN</td>\n      <td>0</td>\n      <td>0.0</td>\n      <td>1</td>\n    </tr>\n    <tr>\n      <td>131</td>\n      <td>HP:0002020PMID:17088400</td>\n      <td>HP:0002020</td>\n      <td>NaN</td>\n      <td>0</td>\n      <td>0.0</td>\n      <td>1</td>\n    </tr>\n    <tr>\n      <td>134</td>\n      <td>HP:0002191PMID:17088400</td>\n      <td>HP:0002191</td>\n      <td>NaN</td>\n      <td>0</td>\n      <td>0.0</td>\n      <td>1</td>\n    </tr>\n    <tr>\n      <td>136</td>\n      <td>HP:0002307PMID:17088400</td>\n      <td>HP:0002307</td>\n      <td>NaN</td>\n      <td>0</td>\n      <td>0.0</td>\n      <td>1</td>\n    </tr>\n    <tr>\n      <td>138</td>\n      <td>HP:0002720PMID:17088400</td>\n      <td>HP:0002720</td>\n      <td>NaN</td>\n      <td>0</td>\n      <td>0.0</td>\n      <td>1</td>\n    </tr>\n  </tbody>\n</table>\n</div>"
     },
     "metadata": {},
     "execution_count": 34
    }
   ],
   "source": [
    "direct_example = one_annotation_direct_matching(hpo_annotations, one_mondo_annotation, graph_network = g)\n",
    "direct_example"
   ]
  },
  {
   "source": [
    "# Comparing Annotator to Test Data- Direct and Relatives Matches\n",
    "This tells you if an annotation is within one hierarchecal level with the known hpo codes\n",
    "\n",
    "**Input:** known_annotations dataset (with at least unqiueid and hpo columns); dataset of annotations to test (with at least hpo and text_id columns); graph network for hpo; graph network\n",
    "\n",
    "**Output:** one dataset with exact matches, matches to relatives, annotations to test that do not have matches, known hpo annotations that do not have a match."
   ],
   "cell_type": "markdown",
   "metadata": {}
  },
  {
   "cell_type": "code",
   "execution_count": 35,
   "metadata": {},
   "outputs": [
    {
     "output_type": "stream",
     "name": "stdout",
     "text": [
      "Help on function one_annotation_matching_relatives in module __main__:\n\none_annotation_matching_relatives(one_hpo_annotation, one_annotation_to_test, graph_network)\n    In this function, we take one set of known hpo annotations and one set of annotations to test against this known set. For this test set, we check for hpo matches directly, with alternate ids, and finally, with any parent, child relationships (along with thier alternate ids).\n    \n    Input: known_annotations dataset (with at least unqiueid and hpo columns); dataset of annotations to test (with at least hpo and text_id columns); graph network for hpo; graph network\n    Output: dataset with exact matches, matches to relatives, annotations to test that do not have matches, known hpo annotations that do not have a match.\n    \n    Child functions: \n    1. graph_alternate_direct_ids\n    2. graph_parent_child\n\n"
     ]
    }
   ],
   "source": [
    "help(one_annotation_matching_relatives)"
   ]
  },
  {
   "cell_type": "code",
   "execution_count": 36,
   "metadata": {},
   "outputs": [
    {
     "output_type": "execute_result",
     "data": {
      "text/plain": [
       "                    uniqueid         hpo original_hpo   text_id  exact_match  \\\n",
       "7    HP:0010864PMID:17088400  HP:0010864          NaN  17088400            1   \n",
       "4    HP:0002191PMID:17088400  HP:0002191   HP:0001257  17088400            0   \n",
       "0                        NaN  HP:0032320          NaN  17088400            0   \n",
       "8                        NaN  HP:0001417          NaN  17088400            0   \n",
       "11                       NaN  HP:0001290          NaN  17088400            0   \n",
       "13                       NaN  HP:0002205          NaN  17088400            0   \n",
       "29                       NaN  HP:0001249          NaN  17088400            0   \n",
       "83                       NaN  HP:0008947          NaN  17088400            0   \n",
       "87                       NaN  HP:0001344          NaN  17088400            0   \n",
       "89                       NaN  HP:0001250          NaN  17088400            0   \n",
       "105                      NaN  HP:0012828          NaN  17088400            0   \n",
       "107                      NaN  HP:0001263          NaN  17088400            0   \n",
       "109                      NaN  HP:0031796          NaN  17088400            0   \n",
       "114  HP:0000160PMID:17088400  HP:0000160          NaN       NaN            0   \n",
       "116  HP:0000252PMID:17088400  HP:0000252          NaN       NaN            0   \n",
       "129  HP:0002015PMID:17088400  HP:0002015          NaN       NaN            0   \n",
       "131  HP:0002020PMID:17088400  HP:0002020          NaN       NaN            0   \n",
       "136  HP:0002307PMID:17088400  HP:0002307          NaN       NaN            0   \n",
       "138  HP:0002720PMID:17088400  HP:0002720          NaN       NaN            0   \n",
       "\n",
       "     relative_match  test_set_annotations_with_no_match  \\\n",
       "7               0.0                                 0.0   \n",
       "4               1.0                                 0.0   \n",
       "0               0.0                                 1.0   \n",
       "8               0.0                                 1.0   \n",
       "11              0.0                                 1.0   \n",
       "13              0.0                                 1.0   \n",
       "29              0.0                                 1.0   \n",
       "83              0.0                                 1.0   \n",
       "87              0.0                                 1.0   \n",
       "89              0.0                                 1.0   \n",
       "105             0.0                                 1.0   \n",
       "107             0.0                                 1.0   \n",
       "109             0.0                                 1.0   \n",
       "114             0.0                                 0.0   \n",
       "116             0.0                                 0.0   \n",
       "129             0.0                                 0.0   \n",
       "131             0.0                                 0.0   \n",
       "136             0.0                                 0.0   \n",
       "138             0.0                                 0.0   \n",
       "\n",
       "     known_annotations_with_no_match  \n",
       "7                                  0  \n",
       "4                                  0  \n",
       "0                                  0  \n",
       "8                                  0  \n",
       "11                                 0  \n",
       "13                                 0  \n",
       "29                                 0  \n",
       "83                                 0  \n",
       "87                                 0  \n",
       "89                                 0  \n",
       "105                                0  \n",
       "107                                0  \n",
       "109                                0  \n",
       "114                                1  \n",
       "116                                1  \n",
       "129                                1  \n",
       "131                                1  \n",
       "136                                1  \n",
       "138                                1  "
      ],
      "text/html": "<div>\n<style scoped>\n    .dataframe tbody tr th:only-of-type {\n        vertical-align: middle;\n    }\n\n    .dataframe tbody tr th {\n        vertical-align: top;\n    }\n\n    .dataframe thead th {\n        text-align: right;\n    }\n</style>\n<table border=\"1\" class=\"dataframe\">\n  <thead>\n    <tr style=\"text-align: right;\">\n      <th></th>\n      <th>uniqueid</th>\n      <th>hpo</th>\n      <th>original_hpo</th>\n      <th>text_id</th>\n      <th>exact_match</th>\n      <th>relative_match</th>\n      <th>test_set_annotations_with_no_match</th>\n      <th>known_annotations_with_no_match</th>\n    </tr>\n  </thead>\n  <tbody>\n    <tr>\n      <td>7</td>\n      <td>HP:0010864PMID:17088400</td>\n      <td>HP:0010864</td>\n      <td>NaN</td>\n      <td>17088400</td>\n      <td>1</td>\n      <td>0.0</td>\n      <td>0.0</td>\n      <td>0</td>\n    </tr>\n    <tr>\n      <td>4</td>\n      <td>HP:0002191PMID:17088400</td>\n      <td>HP:0002191</td>\n      <td>HP:0001257</td>\n      <td>17088400</td>\n      <td>0</td>\n      <td>1.0</td>\n      <td>0.0</td>\n      <td>0</td>\n    </tr>\n    <tr>\n      <td>0</td>\n      <td>NaN</td>\n      <td>HP:0032320</td>\n      <td>NaN</td>\n      <td>17088400</td>\n      <td>0</td>\n      <td>0.0</td>\n      <td>1.0</td>\n      <td>0</td>\n    </tr>\n    <tr>\n      <td>8</td>\n      <td>NaN</td>\n      <td>HP:0001417</td>\n      <td>NaN</td>\n      <td>17088400</td>\n      <td>0</td>\n      <td>0.0</td>\n      <td>1.0</td>\n      <td>0</td>\n    </tr>\n    <tr>\n      <td>11</td>\n      <td>NaN</td>\n      <td>HP:0001290</td>\n      <td>NaN</td>\n      <td>17088400</td>\n      <td>0</td>\n      <td>0.0</td>\n      <td>1.0</td>\n      <td>0</td>\n    </tr>\n    <tr>\n      <td>13</td>\n      <td>NaN</td>\n      <td>HP:0002205</td>\n      <td>NaN</td>\n      <td>17088400</td>\n      <td>0</td>\n      <td>0.0</td>\n      <td>1.0</td>\n      <td>0</td>\n    </tr>\n    <tr>\n      <td>29</td>\n      <td>NaN</td>\n      <td>HP:0001249</td>\n      <td>NaN</td>\n      <td>17088400</td>\n      <td>0</td>\n      <td>0.0</td>\n      <td>1.0</td>\n      <td>0</td>\n    </tr>\n    <tr>\n      <td>83</td>\n      <td>NaN</td>\n      <td>HP:0008947</td>\n      <td>NaN</td>\n      <td>17088400</td>\n      <td>0</td>\n      <td>0.0</td>\n      <td>1.0</td>\n      <td>0</td>\n    </tr>\n    <tr>\n      <td>87</td>\n      <td>NaN</td>\n      <td>HP:0001344</td>\n      <td>NaN</td>\n      <td>17088400</td>\n      <td>0</td>\n      <td>0.0</td>\n      <td>1.0</td>\n      <td>0</td>\n    </tr>\n    <tr>\n      <td>89</td>\n      <td>NaN</td>\n      <td>HP:0001250</td>\n      <td>NaN</td>\n      <td>17088400</td>\n      <td>0</td>\n      <td>0.0</td>\n      <td>1.0</td>\n      <td>0</td>\n    </tr>\n    <tr>\n      <td>105</td>\n      <td>NaN</td>\n      <td>HP:0012828</td>\n      <td>NaN</td>\n      <td>17088400</td>\n      <td>0</td>\n      <td>0.0</td>\n      <td>1.0</td>\n      <td>0</td>\n    </tr>\n    <tr>\n      <td>107</td>\n      <td>NaN</td>\n      <td>HP:0001263</td>\n      <td>NaN</td>\n      <td>17088400</td>\n      <td>0</td>\n      <td>0.0</td>\n      <td>1.0</td>\n      <td>0</td>\n    </tr>\n    <tr>\n      <td>109</td>\n      <td>NaN</td>\n      <td>HP:0031796</td>\n      <td>NaN</td>\n      <td>17088400</td>\n      <td>0</td>\n      <td>0.0</td>\n      <td>1.0</td>\n      <td>0</td>\n    </tr>\n    <tr>\n      <td>114</td>\n      <td>HP:0000160PMID:17088400</td>\n      <td>HP:0000160</td>\n      <td>NaN</td>\n      <td>NaN</td>\n      <td>0</td>\n      <td>0.0</td>\n      <td>0.0</td>\n      <td>1</td>\n    </tr>\n    <tr>\n      <td>116</td>\n      <td>HP:0000252PMID:17088400</td>\n      <td>HP:0000252</td>\n      <td>NaN</td>\n      <td>NaN</td>\n      <td>0</td>\n      <td>0.0</td>\n      <td>0.0</td>\n      <td>1</td>\n    </tr>\n    <tr>\n      <td>129</td>\n      <td>HP:0002015PMID:17088400</td>\n      <td>HP:0002015</td>\n      <td>NaN</td>\n      <td>NaN</td>\n      <td>0</td>\n      <td>0.0</td>\n      <td>0.0</td>\n      <td>1</td>\n    </tr>\n    <tr>\n      <td>131</td>\n      <td>HP:0002020PMID:17088400</td>\n      <td>HP:0002020</td>\n      <td>NaN</td>\n      <td>NaN</td>\n      <td>0</td>\n      <td>0.0</td>\n      <td>0.0</td>\n      <td>1</td>\n    </tr>\n    <tr>\n      <td>136</td>\n      <td>HP:0002307PMID:17088400</td>\n      <td>HP:0002307</td>\n      <td>NaN</td>\n      <td>NaN</td>\n      <td>0</td>\n      <td>0.0</td>\n      <td>0.0</td>\n      <td>1</td>\n    </tr>\n    <tr>\n      <td>138</td>\n      <td>HP:0002720PMID:17088400</td>\n      <td>HP:0002720</td>\n      <td>NaN</td>\n      <td>NaN</td>\n      <td>0</td>\n      <td>0.0</td>\n      <td>0.0</td>\n      <td>1</td>\n    </tr>\n  </tbody>\n</table>\n</div>"
     },
     "metadata": {},
     "execution_count": 36
    }
   ],
   "source": [
    "relative_example = one_annotation_matching_relatives(hpo_annotations, one_mondo_annotation, graph_network = g)\n",
    "relative_example"
   ]
  },
  {
   "cell_type": "code",
   "execution_count": 37,
   "metadata": {},
   "outputs": [
    {
     "output_type": "execute_result",
     "data": {
      "text/plain": [
       "(20, 19)"
      ]
     },
     "metadata": {},
     "execution_count": 37
    }
   ],
   "source": [
    "#the length of these is different because matching with relatives creates more positive matches, between datasets, which occupy the same row\n",
    "len(direct_example), len(relative_example)"
   ]
  },
  {
   "source": [
    "# Scoring\n",
    "The current scoring is fairly straight forward given that we have a bianry classification (the hpo either is or is not in the known annotations), and our classifier is not a percentage of certainty. Typcially, a classification algorithm will give a prediction in percentage form.  \n",
    "\n",
    "Our test is a little counter intuitive since we are testing two distinct samples against each other.  This means that every right answer changes the sample size of the combined data.  However, what remains clear is that Precision, Recall and the F1 score are the important measures.\n",
    "\n",
    "### Explaination of Measurements Outlined Below\n",
    "\n",
    "**Annotations to Test:**  These are annotations from MetaMap or Mondo that can be matched with the gold standard list\n",
    "\n",
    "**Known Annotations:** These are the number of annotations from the gold standard\n",
    "\n",
    "**Accurately Predicted:**  This is the number of annotations to test that are in the known annotations\n",
    "\n",
    "**Additional Measures**\n",
    "\n",
    "**Precision:** (Accurately Predicted / Annotations to Test) Precision is the ratio of correctly predicted positive observations to the total predicted positive observations.  High percison rates indicate a low false positive rate.  This is the key measure for us since our test dataset has all positive observations (i.e. a list of hpo codes we believe exists in the annotated text).  *In other words, this is the percentage that is correct out of the tested annotations.*\n",
    "\n",
    "**Recall:** (Accurately Predicted / Known Annotations) Recall is the ratio of correctly predicted positive observations to the all observations in actual class - yes. *This is the percent of known annotations that are correct.* \n",
    "\n",
    "**F1 Score:** F1 Score is the weighted average of Precision and Recall. Therefore, this score takes both false positives and false negatives into account. In other words, a high f score means that the percent of accurate tested annotations is high and percent of known annotations found is high\n",
    "\n",
    "**Confusion Matrix:**  True_positive, False_positive, False_Negative, and True_Negative make up the Confusion matrix for the scoring.\n"
   ],
   "cell_type": "markdown",
   "metadata": {}
  },
  {
   "source": [
    "### Scoring inputs and Outputs\n",
    "**Input:** dataset constructed from one of our matching functions.\n",
    "\n",
    "**Output:** Basic measurements for the success of the annotator in question."
   ],
   "cell_type": "markdown",
   "metadata": {}
  },
  {
   "cell_type": "code",
   "execution_count": 38,
   "metadata": {},
   "outputs": [
    {
     "output_type": "execute_result",
     "data": {
      "text/plain": [
       "  ScoringType  Annotations_to_Test  Known_Annotations  Accurately_Predicted  \\\n",
       "0      Direct                   13                  8                     1   \n",
       "\n",
       "   Precision  Recall  F1_Score  True_Positive  False_Positive  False_Negative  \\\n",
       "0   0.076923   0.125  0.095238              1              12               7   \n",
       "\n",
       "   True_Negative  \n",
       "0              0  "
      ],
      "text/html": "<div>\n<style scoped>\n    .dataframe tbody tr th:only-of-type {\n        vertical-align: middle;\n    }\n\n    .dataframe tbody tr th {\n        vertical-align: top;\n    }\n\n    .dataframe thead th {\n        text-align: right;\n    }\n</style>\n<table border=\"1\" class=\"dataframe\">\n  <thead>\n    <tr style=\"text-align: right;\">\n      <th></th>\n      <th>ScoringType</th>\n      <th>Annotations_to_Test</th>\n      <th>Known_Annotations</th>\n      <th>Accurately_Predicted</th>\n      <th>Precision</th>\n      <th>Recall</th>\n      <th>F1_Score</th>\n      <th>True_Positive</th>\n      <th>False_Positive</th>\n      <th>False_Negative</th>\n      <th>True_Negative</th>\n    </tr>\n  </thead>\n  <tbody>\n    <tr>\n      <td>0</td>\n      <td>Direct</td>\n      <td>13</td>\n      <td>8</td>\n      <td>1</td>\n      <td>0.076923</td>\n      <td>0.125</td>\n      <td>0.095238</td>\n      <td>1</td>\n      <td>12</td>\n      <td>7</td>\n      <td>0</td>\n    </tr>\n  </tbody>\n</table>\n</div>"
     },
     "metadata": {},
     "execution_count": 38
    }
   ],
   "source": [
    "scoring(direct_example)"
   ]
  },
  {
   "cell_type": "code",
   "execution_count": 39,
   "metadata": {},
   "outputs": [
    {
     "output_type": "execute_result",
     "data": {
      "text/plain": [
       "  ScoringType  Annotations_to_Test  Known_Annotations  Accurately_Predicted  \\\n",
       "0    Relative                   13                  8                     2   \n",
       "\n",
       "   Precision  Recall  F1_Score  True_Positive  False_Positive  False_Negative  \\\n",
       "0   0.153846    0.25  0.190476              2              11               6   \n",
       "\n",
       "   True_Negative  \n",
       "0              0  "
      ],
      "text/html": "<div>\n<style scoped>\n    .dataframe tbody tr th:only-of-type {\n        vertical-align: middle;\n    }\n\n    .dataframe tbody tr th {\n        vertical-align: top;\n    }\n\n    .dataframe thead th {\n        text-align: right;\n    }\n</style>\n<table border=\"1\" class=\"dataframe\">\n  <thead>\n    <tr style=\"text-align: right;\">\n      <th></th>\n      <th>ScoringType</th>\n      <th>Annotations_to_Test</th>\n      <th>Known_Annotations</th>\n      <th>Accurately_Predicted</th>\n      <th>Precision</th>\n      <th>Recall</th>\n      <th>F1_Score</th>\n      <th>True_Positive</th>\n      <th>False_Positive</th>\n      <th>False_Negative</th>\n      <th>True_Negative</th>\n    </tr>\n  </thead>\n  <tbody>\n    <tr>\n      <td>0</td>\n      <td>Relative</td>\n      <td>13</td>\n      <td>8</td>\n      <td>2</td>\n      <td>0.153846</td>\n      <td>0.25</td>\n      <td>0.190476</td>\n      <td>2</td>\n      <td>11</td>\n      <td>6</td>\n      <td>0</td>\n    </tr>\n  </tbody>\n</table>\n</div>"
     },
     "metadata": {},
     "execution_count": 39
    }
   ],
   "source": [
    "scoring(relative_example)"
   ]
  },
  {
   "cell_type": "code",
   "execution_count": null,
   "metadata": {},
   "outputs": [],
   "source": []
  }
 ],
 "metadata": {
  "kernelspec": {
   "display_name": "Python 3",
   "language": "python",
   "name": "python3"
  },
  "language_info": {
   "codemirror_mode": {
    "name": "ipython",
    "version": 3
   },
   "file_extension": ".py",
   "mimetype": "text/x-python",
   "name": "python",
   "nbconvert_exporter": "python",
   "pygments_lexer": "ipython3",
   "version": "3.7.4-final"
  }
 },
 "nbformat": 4,
 "nbformat_minor": 2
}