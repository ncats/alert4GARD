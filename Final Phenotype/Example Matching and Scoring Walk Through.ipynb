{
 "cells": [
  {
   "source": [
    "### Load functions"
   ],
   "cell_type": "markdown",
   "metadata": {}
  },
  {
   "cell_type": "code",
   "execution_count": 25,
   "metadata": {},
   "outputs": [],
   "source": [
    "%run \"C:/Users/asclo/Desktop/HHS/NIH Dashboard/Python Notebooks/Final Deliverables/FunctionsForAnalysis.py\""
   ]
  },
  {
   "source": [
    "### Load Test Data"
   ],
   "cell_type": "markdown",
   "metadata": {}
  },
  {
   "cell_type": "code",
   "execution_count": 3,
   "metadata": {},
   "outputs": [],
   "source": [
    "abstract = pd.read_csv('C:/Users/asclo/Desktop/HHS/NIH Dashboard/Python Notebooks/Final Deliverables/All pmid abstracts from hpo annotations.csv',sep=',', index_col = False)\n",
    "abstract = abstract.rename(columns = {'Pubmed_ID': 'text_id', 'Abstract': 'text'})\n",
    "abstract['text_id'] = abstract['text_id'].astype(str)\n",
    "abstract = abstract.iloc[0:2, :]"
   ]
  },
  {
   "source": [
    "### Load HPO Annotation File"
   ],
   "cell_type": "markdown",
   "metadata": {}
  },
  {
   "cell_type": "code",
   "execution_count": 10,
   "metadata": {},
   "outputs": [],
   "source": [
    "hpo_annotations = get_hpo_annotations_and_clean()"
   ]
  },
  {
   "source": [
    "### Load graph data\n"
   ],
   "cell_type": "markdown",
   "metadata": {}
  },
  {
   "cell_type": "code",
   "execution_count": 5,
   "metadata": {},
   "outputs": [],
   "source": [
    "g = hpo_hierarchy_graph_load()\n",
    "phenotypic_abnormality_list = graph_phenotypic_abnormality(g)"
   ]
  },
  {
   "source": [
    "### Setup for Analysis\n",
    "\n",
    "one_annotation_direct_matching and one_annotation_matching_relatives inputs are only the information you want directly tested against each other."
   ],
   "cell_type": "markdown",
   "metadata": {}
  },
  {
   "cell_type": "code",
   "execution_count": 15,
   "metadata": {},
   "outputs": [],
   "source": [
    "# SETUP FOR FUNCTION\n",
    "\n",
    "#Annotations to test\n",
    "one_mondo_annotation = get_one_mondo_annotation(abstract.iloc[0, :]['text'], abstract.iloc[0, :]['text_id'], min_word_length = 4, longest_only = 'true', \n",
    "                        include_abbreviation = 'false', include_acronym = 'false', include_numbers = 'false')\n",
    "\n",
    "id_ref = 'PMID:' + one_mondo_annotation['text_id']\n",
    "\n",
    "one_mondo_annotation = one_mondo_annotation[one_mondo_annotation['id'].str.contains('HP:')]\n",
    "one_mondo_annotation = one_mondo_annotation[['id', 'text_id']]\n",
    "one_mondo_annotation.columns = ['hpo','text_id']\n",
    "\n",
    "#known annotations\n",
    "hpo_annotations = hpo_annotations[hpo_annotations['reference'].isin(id_ref)]"
   ]
  },
  {
   "source": [
    "# Direct Matching Example\n",
    "one_annotation_direct_matching uses one set of annotations to test against one set of known annotations.  In the example set up above, we are looking at one PubMedID that is in the hpo annotations.\n",
    "\n",
    "This function returns a dataset that countains exact matches, test annotations that do not have matches, and known annotations with no matches.  This is all of the outputs when combining the two datasets together.\n",
    "\n",
    "**Exact Matches:**  These are hpo codes that are in both known annotations and the group of hpos to test.\n",
    "\n",
    "**Test Set Annotations With No Match:**  These hpo codes are in the test set(in this case Mondo), but are NOT in the list of known HPOs.\n",
    "\n",
    "**Known Annotations with No Match:** These hpo codes are in the known annotations, but were not captured in the Abstract run through the Mondo annotator.\n"
   ],
   "cell_type": "markdown",
   "metadata": {}
  },
  {
   "cell_type": "code",
   "execution_count": 12,
   "metadata": {},
   "outputs": [
    {
     "output_type": "execute_result",
     "data": {
      "text/plain": [
       "                    uniqueid         hpo   text_id  exact_match  \\\n",
       "7    HP:0010864PMID:17088400  HP:0010864  17088400            1   \n",
       "0                        NaN  HP:0032320  17088400            0   \n",
       "8                        NaN  HP:0001417  17088400            0   \n",
       "11                       NaN  HP:0001290  17088400            0   \n",
       "13                       NaN  HP:0002205  17088400            0   \n",
       "29                       NaN  HP:0001249  17088400            0   \n",
       "83                       NaN  HP:0008947  17088400            0   \n",
       "87                       NaN  HP:0001344  17088400            0   \n",
       "89                       NaN  HP:0001250  17088400            0   \n",
       "92                       NaN  HP:0001257  17088400            0   \n",
       "105                      NaN  HP:0012828  17088400            0   \n",
       "107                      NaN  HP:0001263  17088400            0   \n",
       "109                      NaN  HP:0031796  17088400            0   \n",
       "114  HP:0000160PMID:17088400  HP:0000160       NaN            0   \n",
       "116  HP:0000252PMID:17088400  HP:0000252       NaN            0   \n",
       "129  HP:0002015PMID:17088400  HP:0002015       NaN            0   \n",
       "131  HP:0002020PMID:17088400  HP:0002020       NaN            0   \n",
       "134  HP:0002191PMID:17088400  HP:0002191       NaN            0   \n",
       "136  HP:0002307PMID:17088400  HP:0002307       NaN            0   \n",
       "138  HP:0002720PMID:17088400  HP:0002720       NaN            0   \n",
       "\n",
       "     test_set_annotations_with_no_match  known_annotations_with_no_match  \n",
       "7                                   0.0                                0  \n",
       "0                                   1.0                                0  \n",
       "8                                   1.0                                0  \n",
       "11                                  1.0                                0  \n",
       "13                                  1.0                                0  \n",
       "29                                  1.0                                0  \n",
       "83                                  1.0                                0  \n",
       "87                                  1.0                                0  \n",
       "89                                  1.0                                0  \n",
       "92                                  1.0                                0  \n",
       "105                                 1.0                                0  \n",
       "107                                 1.0                                0  \n",
       "109                                 1.0                                0  \n",
       "114                                 0.0                                1  \n",
       "116                                 0.0                                1  \n",
       "129                                 0.0                                1  \n",
       "131                                 0.0                                1  \n",
       "134                                 0.0                                1  \n",
       "136                                 0.0                                1  \n",
       "138                                 0.0                                1  "
      ],
      "text/html": "<div>\n<style scoped>\n    .dataframe tbody tr th:only-of-type {\n        vertical-align: middle;\n    }\n\n    .dataframe tbody tr th {\n        vertical-align: top;\n    }\n\n    .dataframe thead th {\n        text-align: right;\n    }\n</style>\n<table border=\"1\" class=\"dataframe\">\n  <thead>\n    <tr style=\"text-align: right;\">\n      <th></th>\n      <th>uniqueid</th>\n      <th>hpo</th>\n      <th>text_id</th>\n      <th>exact_match</th>\n      <th>test_set_annotations_with_no_match</th>\n      <th>known_annotations_with_no_match</th>\n    </tr>\n  </thead>\n  <tbody>\n    <tr>\n      <td>7</td>\n      <td>HP:0010864PMID:17088400</td>\n      <td>HP:0010864</td>\n      <td>17088400</td>\n      <td>1</td>\n      <td>0.0</td>\n      <td>0</td>\n    </tr>\n    <tr>\n      <td>0</td>\n      <td>NaN</td>\n      <td>HP:0032320</td>\n      <td>17088400</td>\n      <td>0</td>\n      <td>1.0</td>\n      <td>0</td>\n    </tr>\n    <tr>\n      <td>8</td>\n      <td>NaN</td>\n      <td>HP:0001417</td>\n      <td>17088400</td>\n      <td>0</td>\n      <td>1.0</td>\n      <td>0</td>\n    </tr>\n    <tr>\n      <td>11</td>\n      <td>NaN</td>\n      <td>HP:0001290</td>\n      <td>17088400</td>\n      <td>0</td>\n      <td>1.0</td>\n      <td>0</td>\n    </tr>\n    <tr>\n      <td>13</td>\n      <td>NaN</td>\n      <td>HP:0002205</td>\n      <td>17088400</td>\n      <td>0</td>\n      <td>1.0</td>\n      <td>0</td>\n    </tr>\n    <tr>\n      <td>29</td>\n      <td>NaN</td>\n      <td>HP:0001249</td>\n      <td>17088400</td>\n      <td>0</td>\n      <td>1.0</td>\n      <td>0</td>\n    </tr>\n    <tr>\n      <td>83</td>\n      <td>NaN</td>\n      <td>HP:0008947</td>\n      <td>17088400</td>\n      <td>0</td>\n      <td>1.0</td>\n      <td>0</td>\n    </tr>\n    <tr>\n      <td>87</td>\n      <td>NaN</td>\n      <td>HP:0001344</td>\n      <td>17088400</td>\n      <td>0</td>\n      <td>1.0</td>\n      <td>0</td>\n    </tr>\n    <tr>\n      <td>89</td>\n      <td>NaN</td>\n      <td>HP:0001250</td>\n      <td>17088400</td>\n      <td>0</td>\n      <td>1.0</td>\n      <td>0</td>\n    </tr>\n    <tr>\n      <td>92</td>\n      <td>NaN</td>\n      <td>HP:0001257</td>\n      <td>17088400</td>\n      <td>0</td>\n      <td>1.0</td>\n      <td>0</td>\n    </tr>\n    <tr>\n      <td>105</td>\n      <td>NaN</td>\n      <td>HP:0012828</td>\n      <td>17088400</td>\n      <td>0</td>\n      <td>1.0</td>\n      <td>0</td>\n    </tr>\n    <tr>\n      <td>107</td>\n      <td>NaN</td>\n      <td>HP:0001263</td>\n      <td>17088400</td>\n      <td>0</td>\n      <td>1.0</td>\n      <td>0</td>\n    </tr>\n    <tr>\n      <td>109</td>\n      <td>NaN</td>\n      <td>HP:0031796</td>\n      <td>17088400</td>\n      <td>0</td>\n      <td>1.0</td>\n      <td>0</td>\n    </tr>\n    <tr>\n      <td>114</td>\n      <td>HP:0000160PMID:17088400</td>\n      <td>HP:0000160</td>\n      <td>NaN</td>\n      <td>0</td>\n      <td>0.0</td>\n      <td>1</td>\n    </tr>\n    <tr>\n      <td>116</td>\n      <td>HP:0000252PMID:17088400</td>\n      <td>HP:0000252</td>\n      <td>NaN</td>\n      <td>0</td>\n      <td>0.0</td>\n      <td>1</td>\n    </tr>\n    <tr>\n      <td>129</td>\n      <td>HP:0002015PMID:17088400</td>\n      <td>HP:0002015</td>\n      <td>NaN</td>\n      <td>0</td>\n      <td>0.0</td>\n      <td>1</td>\n    </tr>\n    <tr>\n      <td>131</td>\n      <td>HP:0002020PMID:17088400</td>\n      <td>HP:0002020</td>\n      <td>NaN</td>\n      <td>0</td>\n      <td>0.0</td>\n      <td>1</td>\n    </tr>\n    <tr>\n      <td>134</td>\n      <td>HP:0002191PMID:17088400</td>\n      <td>HP:0002191</td>\n      <td>NaN</td>\n      <td>0</td>\n      <td>0.0</td>\n      <td>1</td>\n    </tr>\n    <tr>\n      <td>136</td>\n      <td>HP:0002307PMID:17088400</td>\n      <td>HP:0002307</td>\n      <td>NaN</td>\n      <td>0</td>\n      <td>0.0</td>\n      <td>1</td>\n    </tr>\n    <tr>\n      <td>138</td>\n      <td>HP:0002720PMID:17088400</td>\n      <td>HP:0002720</td>\n      <td>NaN</td>\n      <td>0</td>\n      <td>0.0</td>\n      <td>1</td>\n    </tr>\n  </tbody>\n</table>\n</div>"
     },
     "metadata": {},
     "execution_count": 12
    }
   ],
   "source": [
    "direct_example = one_annotation_direct_matching(hpo_annotations, one_mondo_annotation, graph_network = g)\n",
    "direct_example"
   ]
  },
  {
   "source": [
    "# Direct and Relative Matching Example\n",
    "\n",
    "one_annotation_matching_relatives  uses one set of annotations to test against one set of known annotations.  In this example, we are looking at one PubMedID that is in the hpo annotations.  This is the same data as in the Direct Matching Example above.\n",
    "\n",
    "\n",
    "This function returns a dataset that countains exact matches, matches on either the parent or child level, test annotations that do not have matches, and known annotations with no matches.  This is all of the outputs when combining the two datasets together.\n",
    "\n",
    "**Exact Matches:**  These are hpo codes that are in both known annotations and the group of hpos to test.\n",
    "\n",
    "**Relative Matches:** The column relative_match indicates if the original_hpo in the test dataset has matched an hpo from the known annotations.  In this case, HP:0002191 is either a parent or child of HP:0001257.\n",
    "\n",
    "**Test Set Annotations With No Match:**  These hpo codes are in the test set(in this case Mondo), but are NOT in the list of known HPOs.\n",
    "\n",
    "**Known Annotations with No Match:** These hpo codes are in the known annotations, but were not captured in the Abstract run through the Mondo annotator.\n"
   ],
   "cell_type": "markdown",
   "metadata": {}
  },
  {
   "cell_type": "code",
   "execution_count": 16,
   "metadata": {},
   "outputs": [
    {
     "output_type": "execute_result",
     "data": {
      "text/plain": [
       "                    uniqueid         hpo original_hpo   text_id  exact_match  \\\n",
       "7    HP:0010864PMID:17088400  HP:0010864          NaN  17088400            1   \n",
       "4    HP:0002191PMID:17088400  HP:0002191   HP:0001257  17088400            0   \n",
       "0                        NaN  HP:0032320          NaN  17088400            0   \n",
       "8                        NaN  HP:0001417          NaN  17088400            0   \n",
       "11                       NaN  HP:0001290          NaN  17088400            0   \n",
       "13                       NaN  HP:0002205          NaN  17088400            0   \n",
       "29                       NaN  HP:0001249          NaN  17088400            0   \n",
       "83                       NaN  HP:0008947          NaN  17088400            0   \n",
       "87                       NaN  HP:0001344          NaN  17088400            0   \n",
       "89                       NaN  HP:0001250          NaN  17088400            0   \n",
       "105                      NaN  HP:0012828          NaN  17088400            0   \n",
       "107                      NaN  HP:0001263          NaN  17088400            0   \n",
       "109                      NaN  HP:0031796          NaN  17088400            0   \n",
       "114  HP:0000160PMID:17088400  HP:0000160          NaN       NaN            0   \n",
       "116  HP:0000252PMID:17088400  HP:0000252          NaN       NaN            0   \n",
       "129  HP:0002015PMID:17088400  HP:0002015          NaN       NaN            0   \n",
       "131  HP:0002020PMID:17088400  HP:0002020          NaN       NaN            0   \n",
       "136  HP:0002307PMID:17088400  HP:0002307          NaN       NaN            0   \n",
       "138  HP:0002720PMID:17088400  HP:0002720          NaN       NaN            0   \n",
       "\n",
       "     relative_match  test_set_annotations_with_no_match  \\\n",
       "7               0.0                                 0.0   \n",
       "4               1.0                                 0.0   \n",
       "0               0.0                                 1.0   \n",
       "8               0.0                                 1.0   \n",
       "11              0.0                                 1.0   \n",
       "13              0.0                                 1.0   \n",
       "29              0.0                                 1.0   \n",
       "83              0.0                                 1.0   \n",
       "87              0.0                                 1.0   \n",
       "89              0.0                                 1.0   \n",
       "105             0.0                                 1.0   \n",
       "107             0.0                                 1.0   \n",
       "109             0.0                                 1.0   \n",
       "114             0.0                                 0.0   \n",
       "116             0.0                                 0.0   \n",
       "129             0.0                                 0.0   \n",
       "131             0.0                                 0.0   \n",
       "136             0.0                                 0.0   \n",
       "138             0.0                                 0.0   \n",
       "\n",
       "     known_annotations_with_no_match  \n",
       "7                                  0  \n",
       "4                                  0  \n",
       "0                                  0  \n",
       "8                                  0  \n",
       "11                                 0  \n",
       "13                                 0  \n",
       "29                                 0  \n",
       "83                                 0  \n",
       "87                                 0  \n",
       "89                                 0  \n",
       "105                                0  \n",
       "107                                0  \n",
       "109                                0  \n",
       "114                                1  \n",
       "116                                1  \n",
       "129                                1  \n",
       "131                                1  \n",
       "136                                1  \n",
       "138                                1  "
      ],
      "text/html": "<div>\n<style scoped>\n    .dataframe tbody tr th:only-of-type {\n        vertical-align: middle;\n    }\n\n    .dataframe tbody tr th {\n        vertical-align: top;\n    }\n\n    .dataframe thead th {\n        text-align: right;\n    }\n</style>\n<table border=\"1\" class=\"dataframe\">\n  <thead>\n    <tr style=\"text-align: right;\">\n      <th></th>\n      <th>uniqueid</th>\n      <th>hpo</th>\n      <th>original_hpo</th>\n      <th>text_id</th>\n      <th>exact_match</th>\n      <th>relative_match</th>\n      <th>test_set_annotations_with_no_match</th>\n      <th>known_annotations_with_no_match</th>\n    </tr>\n  </thead>\n  <tbody>\n    <tr>\n      <td>7</td>\n      <td>HP:0010864PMID:17088400</td>\n      <td>HP:0010864</td>\n      <td>NaN</td>\n      <td>17088400</td>\n      <td>1</td>\n      <td>0.0</td>\n      <td>0.0</td>\n      <td>0</td>\n    </tr>\n    <tr>\n      <td>4</td>\n      <td>HP:0002191PMID:17088400</td>\n      <td>HP:0002191</td>\n      <td>HP:0001257</td>\n      <td>17088400</td>\n      <td>0</td>\n      <td>1.0</td>\n      <td>0.0</td>\n      <td>0</td>\n    </tr>\n    <tr>\n      <td>0</td>\n      <td>NaN</td>\n      <td>HP:0032320</td>\n      <td>NaN</td>\n      <td>17088400</td>\n      <td>0</td>\n      <td>0.0</td>\n      <td>1.0</td>\n      <td>0</td>\n    </tr>\n    <tr>\n      <td>8</td>\n      <td>NaN</td>\n      <td>HP:0001417</td>\n      <td>NaN</td>\n      <td>17088400</td>\n      <td>0</td>\n      <td>0.0</td>\n      <td>1.0</td>\n      <td>0</td>\n    </tr>\n    <tr>\n      <td>11</td>\n      <td>NaN</td>\n      <td>HP:0001290</td>\n      <td>NaN</td>\n      <td>17088400</td>\n      <td>0</td>\n      <td>0.0</td>\n      <td>1.0</td>\n      <td>0</td>\n    </tr>\n    <tr>\n      <td>13</td>\n      <td>NaN</td>\n      <td>HP:0002205</td>\n      <td>NaN</td>\n      <td>17088400</td>\n      <td>0</td>\n      <td>0.0</td>\n      <td>1.0</td>\n      <td>0</td>\n    </tr>\n    <tr>\n      <td>29</td>\n      <td>NaN</td>\n      <td>HP:0001249</td>\n      <td>NaN</td>\n      <td>17088400</td>\n      <td>0</td>\n      <td>0.0</td>\n      <td>1.0</td>\n      <td>0</td>\n    </tr>\n    <tr>\n      <td>83</td>\n      <td>NaN</td>\n      <td>HP:0008947</td>\n      <td>NaN</td>\n      <td>17088400</td>\n      <td>0</td>\n      <td>0.0</td>\n      <td>1.0</td>\n      <td>0</td>\n    </tr>\n    <tr>\n      <td>87</td>\n      <td>NaN</td>\n      <td>HP:0001344</td>\n      <td>NaN</td>\n      <td>17088400</td>\n      <td>0</td>\n      <td>0.0</td>\n      <td>1.0</td>\n      <td>0</td>\n    </tr>\n    <tr>\n      <td>89</td>\n      <td>NaN</td>\n      <td>HP:0001250</td>\n      <td>NaN</td>\n      <td>17088400</td>\n      <td>0</td>\n      <td>0.0</td>\n      <td>1.0</td>\n      <td>0</td>\n    </tr>\n    <tr>\n      <td>105</td>\n      <td>NaN</td>\n      <td>HP:0012828</td>\n      <td>NaN</td>\n      <td>17088400</td>\n      <td>0</td>\n      <td>0.0</td>\n      <td>1.0</td>\n      <td>0</td>\n    </tr>\n    <tr>\n      <td>107</td>\n      <td>NaN</td>\n      <td>HP:0001263</td>\n      <td>NaN</td>\n      <td>17088400</td>\n      <td>0</td>\n      <td>0.0</td>\n      <td>1.0</td>\n      <td>0</td>\n    </tr>\n    <tr>\n      <td>109</td>\n      <td>NaN</td>\n      <td>HP:0031796</td>\n      <td>NaN</td>\n      <td>17088400</td>\n      <td>0</td>\n      <td>0.0</td>\n      <td>1.0</td>\n      <td>0</td>\n    </tr>\n    <tr>\n      <td>114</td>\n      <td>HP:0000160PMID:17088400</td>\n      <td>HP:0000160</td>\n      <td>NaN</td>\n      <td>NaN</td>\n      <td>0</td>\n      <td>0.0</td>\n      <td>0.0</td>\n      <td>1</td>\n    </tr>\n    <tr>\n      <td>116</td>\n      <td>HP:0000252PMID:17088400</td>\n      <td>HP:0000252</td>\n      <td>NaN</td>\n      <td>NaN</td>\n      <td>0</td>\n      <td>0.0</td>\n      <td>0.0</td>\n      <td>1</td>\n    </tr>\n    <tr>\n      <td>129</td>\n      <td>HP:0002015PMID:17088400</td>\n      <td>HP:0002015</td>\n      <td>NaN</td>\n      <td>NaN</td>\n      <td>0</td>\n      <td>0.0</td>\n      <td>0.0</td>\n      <td>1</td>\n    </tr>\n    <tr>\n      <td>131</td>\n      <td>HP:0002020PMID:17088400</td>\n      <td>HP:0002020</td>\n      <td>NaN</td>\n      <td>NaN</td>\n      <td>0</td>\n      <td>0.0</td>\n      <td>0.0</td>\n      <td>1</td>\n    </tr>\n    <tr>\n      <td>136</td>\n      <td>HP:0002307PMID:17088400</td>\n      <td>HP:0002307</td>\n      <td>NaN</td>\n      <td>NaN</td>\n      <td>0</td>\n      <td>0.0</td>\n      <td>0.0</td>\n      <td>1</td>\n    </tr>\n    <tr>\n      <td>138</td>\n      <td>HP:0002720PMID:17088400</td>\n      <td>HP:0002720</td>\n      <td>NaN</td>\n      <td>NaN</td>\n      <td>0</td>\n      <td>0.0</td>\n      <td>0.0</td>\n      <td>1</td>\n    </tr>\n  </tbody>\n</table>\n</div>"
     },
     "metadata": {},
     "execution_count": 16
    }
   ],
   "source": [
    "relative_example = one_annotation_matching_relatives(hpo_annotations, one_mondo_annotation, graph_network = g)\n",
    "relative_example"
   ]
  },
  {
   "source": [
    "# Scoring\n",
    "The current scoring is fairly straight forward given that we have a bianry classification (the hpo either is or is not in the known annotations), and our classifier is not a percentage of certainty. Typcially, a classification algorithm will give a prediction in percentage form.  \n",
    "\n",
    "Our test is a little counter intuitive since we are testing two distinct samples against each other.  This means that every right answer changes the sample size of the combined data.  However, what remains clear is that Precision, Recall and the F1 score are the important measures.\n",
    "\n",
    "### Explaination of Measurements Outlined Below\n",
    "\n",
    "**Annotations to Test:**  These are annotations from MetaMap or Mondo that can be matched with the gold standard list\n",
    "\n",
    "**Known Annotations:** These are the number of annotations from the gold standard\n",
    "\n",
    "**Accurately Predicted:**  This is the number of annotations to test that are in the known annotations\n",
    "\n",
    "**Additional Measures**\n",
    "\n",
    "**Precision:** (Accurately Predicted / Annotations to Test) Precision is the ratio of correctly predicted positive observations to the total predicted positive observations.  High percison rates indicate a low false positive rate.  This is the key measure for us since our test dataset has all positive observations (i.e. a list of hpo codes we believe exists in the annotated text).  *In other words, this is the percentage that is correct out of the tested annotations.*\n",
    "\n",
    "**Recall:** (Accurately Predicted / Known Annotations) Recall is the ratio of correctly predicted positive observations to the all observations in actual class - yes. *This is the percent of known annotations that are correct.* \n",
    "\n",
    "**F1 Score:** F1 Score is the weighted average of Precision and Recall. Therefore, this score takes both false positives and false negatives into account. In other words, a high f score means that the percent of accurate tested annotations is high and percent of known annotations found is high\n",
    "\n",
    "**Confusion Matrix:**  True_positive, False_positive, False_Negative, and True_Negative make up the Confusion matrix for the scoring.\n",
    "\n"
   ],
   "cell_type": "markdown",
   "metadata": {}
  },
  {
   "source": [
    "### Scoring Direct Comparison"
   ],
   "cell_type": "markdown",
   "metadata": {}
  },
  {
   "cell_type": "code",
   "execution_count": 26,
   "metadata": {},
   "outputs": [
    {
     "output_type": "execute_result",
     "data": {
      "text/plain": [
       "  ScoringType  Annotations_to_Test  Known_Annotations  Accurately_Predicted  \\\n",
       "0      Direct                   13                  8                     1   \n",
       "\n",
       "   Precision  Recall  F1_Score  True_Positive  False_Positive  False_Negative  \\\n",
       "0   0.076923   0.125  0.095238              1              12               7   \n",
       "\n",
       "   True_Negative  \n",
       "0              0  "
      ],
      "text/html": "<div>\n<style scoped>\n    .dataframe tbody tr th:only-of-type {\n        vertical-align: middle;\n    }\n\n    .dataframe tbody tr th {\n        vertical-align: top;\n    }\n\n    .dataframe thead th {\n        text-align: right;\n    }\n</style>\n<table border=\"1\" class=\"dataframe\">\n  <thead>\n    <tr style=\"text-align: right;\">\n      <th></th>\n      <th>ScoringType</th>\n      <th>Annotations_to_Test</th>\n      <th>Known_Annotations</th>\n      <th>Accurately_Predicted</th>\n      <th>Precision</th>\n      <th>Recall</th>\n      <th>F1_Score</th>\n      <th>True_Positive</th>\n      <th>False_Positive</th>\n      <th>False_Negative</th>\n      <th>True_Negative</th>\n    </tr>\n  </thead>\n  <tbody>\n    <tr>\n      <td>0</td>\n      <td>Direct</td>\n      <td>13</td>\n      <td>8</td>\n      <td>1</td>\n      <td>0.076923</td>\n      <td>0.125</td>\n      <td>0.095238</td>\n      <td>1</td>\n      <td>12</td>\n      <td>7</td>\n      <td>0</td>\n    </tr>\n  </tbody>\n</table>\n</div>"
     },
     "metadata": {},
     "execution_count": 26
    }
   ],
   "source": [
    "scoring(direct_example)"
   ]
  },
  {
   "source": [
    "### Scoring Relative Comparison"
   ],
   "cell_type": "markdown",
   "metadata": {}
  },
  {
   "cell_type": "code",
   "execution_count": 27,
   "metadata": {},
   "outputs": [
    {
     "output_type": "execute_result",
     "data": {
      "text/plain": [
       "  ScoringType  Annotations_to_Test  Known_Annotations  Accurately_Predicted  \\\n",
       "0    Relative                   13                  8                     2   \n",
       "\n",
       "   Precision  Recall  F1_Score  True_Positive  False_Positive  False_Negative  \\\n",
       "0   0.153846    0.25  0.190476              2              11               6   \n",
       "\n",
       "   True_Negative  \n",
       "0              0  "
      ],
      "text/html": "<div>\n<style scoped>\n    .dataframe tbody tr th:only-of-type {\n        vertical-align: middle;\n    }\n\n    .dataframe tbody tr th {\n        vertical-align: top;\n    }\n\n    .dataframe thead th {\n        text-align: right;\n    }\n</style>\n<table border=\"1\" class=\"dataframe\">\n  <thead>\n    <tr style=\"text-align: right;\">\n      <th></th>\n      <th>ScoringType</th>\n      <th>Annotations_to_Test</th>\n      <th>Known_Annotations</th>\n      <th>Accurately_Predicted</th>\n      <th>Precision</th>\n      <th>Recall</th>\n      <th>F1_Score</th>\n      <th>True_Positive</th>\n      <th>False_Positive</th>\n      <th>False_Negative</th>\n      <th>True_Negative</th>\n    </tr>\n  </thead>\n  <tbody>\n    <tr>\n      <td>0</td>\n      <td>Relative</td>\n      <td>13</td>\n      <td>8</td>\n      <td>2</td>\n      <td>0.153846</td>\n      <td>0.25</td>\n      <td>0.190476</td>\n      <td>2</td>\n      <td>11</td>\n      <td>6</td>\n      <td>0</td>\n    </tr>\n  </tbody>\n</table>\n</div>"
     },
     "metadata": {},
     "execution_count": 27
    }
   ],
   "source": [
    "scoring(relative_example)"
   ]
  }
 ],
 "metadata": {
  "kernelspec": {
   "display_name": "Python 3",
   "language": "python",
   "name": "python3"
  },
  "language_info": {
   "codemirror_mode": {
    "name": "ipython",
    "version": 3
   },
   "file_extension": ".py",
   "mimetype": "text/x-python",
   "name": "python",
   "nbconvert_exporter": "python",
   "pygments_lexer": "ipython3",
   "version": "3.7.4-final"
  }
 },
 "nbformat": 4,
 "nbformat_minor": 2
}